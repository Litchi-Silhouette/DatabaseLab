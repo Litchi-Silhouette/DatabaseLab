{
 "cells": [
  {
   "cell_type": "code",
   "execution_count": null,
   "id": "3dfe5c17",
   "metadata": {},
   "outputs": [],
   "source": [
    "import sqlite3\n",
    "\n",
    "conn = sqlite3.connect('test1.db')"
   ]
  },
  {
   "cell_type": "code",
   "execution_count": 2,
   "id": "a6e756e1",
   "metadata": {},
   "outputs": [],
   "source": [
    "def clenup(conn, emp, dept):\n",
    "    cursor = conn.cursor()\n",
    "    cursor.execute('PRAGMA foreign_keys = OFF;')\n",
    "    cursor.execute('BEGIN DEFERRED TRANSACTION;')\n",
    "    cursor.execute('DROP TABLE IF EXISTS {};'.format(emp))\n",
    "    cursor.execute('DROP TABLE IF EXISTS {};'.format(dept))\n",
    "    conn.commit()\n",
    "    cursor.close()"
   ]
  },
  {
   "cell_type": "code",
   "execution_count": 3,
   "id": "44cea751",
   "metadata": {},
   "outputs": [],
   "source": [
    "def displayDB(conn):\n",
    "    import pandas as pd\n",
    "    cursor = conn.cursor()\n",
    "    cursor.execute(\"SELECT name FROM sqlite_master WHERE type='table' ORDER BY name;\")\n",
    "    table_names = cursor.fetchall()\n",
    "    \n",
    "    # Check if there are any tables\n",
    "    if not table_names:\n",
    "        print(\"No tables found in the database.\")\n",
    "        return\n",
    "    \n",
    "    for table in table_names:\n",
    "        df = pd.read_sql_query(f\"SELECT * FROM {table[0]}\", con=conn)\n",
    "        print(f\"Table: {table[0]}\")\n",
    "        print(df)\n",
    "        print(\"\\n\")\n",
    "    cursor.close()"
   ]
  },
  {
   "cell_type": "code",
   "execution_count": 4,
   "id": "f85ad8c2",
   "metadata": {},
   "outputs": [],
   "source": [
    "def handle_error(conn, callback, *args, **kwargs):\n",
    "    try:\n",
    "        cursor = conn.cursor()\n",
    "        cursor.execute('PRAGMA foreign_keys = ON;')\n",
    "        callback(cursor, *args, **kwargs)\n",
    "        cursor.connection.commit()\n",
    "    except sqlite3.DatabaseError as e:\n",
    "        error_message = str(e)\n",
    "        print(f\"Error: {error_message}\")\n",
    "        cursor.connection.rollback()\n",
    "    except ValueError as e:\n",
    "        error_message = str(e)\n",
    "        print(f\"Value Error: {error_message}\")\n",
    "    else:\n",
    "        print(\"Operation completed successfully.\")\n",
    "    finally:\n",
    "        cursor.close()"
   ]
  },
  {
   "cell_type": "code",
   "execution_count": 5,
   "id": "55a4d368",
   "metadata": {},
   "outputs": [],
   "source": [
    "# define basic RUD operations\n",
    "def insert_emp(cursor, eno, ename, birtyday, level, position, salary, dno):\n",
    "    cursor.execute('''\n",
    "        INSERT INTO Emp (eno, ename, birtyday, level, position, salary, dno)\n",
    "        VALUES (?, ?, ?, ?, ?, ?, ?)\n",
    "    ''', (eno, ename, birtyday, level, position, salary, dno))\n",
    "    print(\"Record inserted successfully.\")\n",
    "\n",
    "def insert_dept(cursor, dno, dname, budget, manager):\n",
    "    cursor.execute('''\n",
    "        INSERT INTO Dept (dno, dname, budget, manager)\n",
    "        VALUES (?, ?, ?, ?)\n",
    "    ''', (dno, dname, budget, manager))\n",
    "    print(\"Record inserted successfully.\")\n",
    "\n",
    "def update_emp(cursor, eno, ename=None, birtyday=None, level=None, position=None, salary=None, dno=None):\n",
    "    cursor.execute(\"SELECT COUNT(*) FROM Emp WHERE eno = ?\", (eno,))\n",
    "    if cursor.fetchone()[0] == 0:\n",
    "        raise ValueError(f\"Employee with eno {eno} not found.\")\n",
    "    \n",
    "    update_columns = []\n",
    "    update_values = []\n",
    "    \n",
    "    if ename is not None:\n",
    "        update_columns.append(\"ename = ?\")\n",
    "        update_values.append(ename)\n",
    "    if birtyday is not None:\n",
    "        update_columns.append(\"birtyday = ?\")\n",
    "        update_values.append(birtyday)\n",
    "    if level is not None:\n",
    "        update_columns.append(\"level = ?\")\n",
    "        update_values.append(level)\n",
    "    if position is not None:\n",
    "        update_columns.append(\"position = ?\")\n",
    "        update_values.append(position)\n",
    "    if salary is not None:\n",
    "        update_columns.append(\"salary = ?\")\n",
    "        update_values.append(salary)\n",
    "    if dno is not None:\n",
    "        update_columns.append(\"dno = ?\")\n",
    "        update_values.append(dno)\n",
    "\n",
    "    if update_columns:\n",
    "        update_values.append(eno)\n",
    "        update_query = f'''\n",
    "            UPDATE Emp\n",
    "            SET {\", \".join(update_columns)}\n",
    "            WHERE eno = ?\n",
    "        '''\n",
    "        cursor.execute(update_query, tuple(update_values))\n",
    "        print(\"Record updated successfully.\")\n",
    "    else:\n",
    "        print(\"No values provided for update.\")\n",
    "\n",
    "def update_dept(cursor, dno, dname=None, budget=None, manager=None):\n",
    "    cursor.execute(\"SELECT COUNT(*) FROM Dept WHERE dno = ?\", (dno,))\n",
    "    if cursor.fetchone()[0] == 0:\n",
    "        raise ValueError(f\"Department with dno {dno} not found.\")\n",
    "    \n",
    "    update_columns = []\n",
    "    update_values = []\n",
    "    \n",
    "    if dname is not None:\n",
    "        update_columns.append(\"dname = ?\")\n",
    "        update_values.append(dname)\n",
    "    if budget is not None:\n",
    "        update_columns.append(\"budget = ?\")\n",
    "        update_values.append(budget)\n",
    "    if manager is not None:\n",
    "        update_columns.append(\"manager = ?\")\n",
    "        update_values.append(manager)\n",
    "    \n",
    "    if update_columns:\n",
    "        update_values.append(dno) \n",
    "        update_query = f'''\n",
    "            UPDATE Dept\n",
    "            SET {\", \".join(update_columns)}\n",
    "            WHERE dno = ?\n",
    "        '''\n",
    "        cursor.execute(update_query, tuple(update_values))\n",
    "        print(\"Record updated successfully.\")\n",
    "    else:\n",
    "        print(\"No values provided for update.\")\n",
    "\n",
    "def delete_emp(cursor, eno, emp=\"Emp\"):\n",
    "    cursor.execute(f\"SELECT COUNT(*) FROM {emp} WHERE eno = ?\", (eno,))\n",
    "    if cursor.fetchone()[0] == 0:\n",
    "        raise ValueError(f\"Employee with eno {eno} not found.\")\n",
    "\n",
    "    cursor.execute(f'''\n",
    "        DELETE FROM {emp}\n",
    "        WHERE eno = ?\n",
    "    ''', (eno,))\n",
    "    print(\"Record deleted successfully.\")\n",
    "\n",
    "\n",
    "def delete_dept(cursor, dno, dept=\"Dept\"):\n",
    "    cursor.execute(f\"SELECT COUNT(*) FROM {dept} WHERE dno = ?\", (dno,))\n",
    "    if cursor.fetchone()[0] == 0:\n",
    "        raise ValueError(f\"Department with dno {dno} not found.\")\n",
    "\n",
    "    cursor.execute(f'''\n",
    "        DELETE FROM {dept}\n",
    "        WHERE dno = ?\n",
    "    ''', (dno,))\n",
    "    print(\"Record deleted successfully.\")"
   ]
  },
  {
   "cell_type": "code",
   "execution_count": 6,
   "id": "e83d6b54",
   "metadata": {},
   "outputs": [],
   "source": [
    "def insert_test_data(conn, dept_table='Dept', emp_table='Emp'):\n",
    "    print(\"Inserting test data into %s and %s tables...\" % (dept_table, emp_table))\n",
    "    cursor = conn.cursor()\n",
    "    try:\n",
    "        cursor.execute('PRAGMA foreign_keys = ON;')\n",
    "        cursor.execute('BEGIN DEFERRED TRANSACTION;')\n",
    "\n",
    "        # Insert into Dept table\n",
    "        cursor.execute(f'''\n",
    "            INSERT INTO {dept_table} (dno, dname, budget, manager) \n",
    "            VALUES (1001, '计算机学院', 28000.00, 1004)\n",
    "        ''')\n",
    "        cursor.execute(f'''\n",
    "            INSERT INTO {dept_table} (dno, dname, budget, manager) \n",
    "            VALUES (1002, '数学学院', 30000.00, 1005)\n",
    "        ''')\n",
    "        cursor.execute(f'''\n",
    "            INSERT INTO {dept_table} (dno, dname, budget, manager) \n",
    "            VALUES (1003, '智能学院', 4000.00, 1003)\n",
    "        ''')\n",
    "\n",
    "        # Insert into Emp table\n",
    "        cursor.execute(f'''\n",
    "            INSERT INTO {emp_table} (eno, ename, birtyday, level, position, salary, dno)\n",
    "            VALUES (1001, '张伟', '1980-05-15', 3, '教师', 12000.00, 1001)\n",
    "        ''')\n",
    "        cursor.execute(f'''\n",
    "            INSERT INTO {emp_table} (eno, ename, birtyday, level, position, salary, dno)\n",
    "            VALUES (1002, '李娜', '1990-03-20', 2, '秘书', 8000.00, 1002)\n",
    "        ''')\n",
    "        cursor.execute(f'''\n",
    "            INSERT INTO {emp_table} (eno, ename, birtyday, level, position, salary, dno)\n",
    "            VALUES (1003, '王强', '1985-11-10', 1, '会计', 4000.00, 1003)\n",
    "        ''')\n",
    "        cursor.execute(f'''\n",
    "            INSERT INTO {emp_table} (eno, ename, birtyday, level, position, salary, dno)\n",
    "            VALUES (1004, '赵婷', '1992-08-05', 4, '教务', 16000.00, 1001)\n",
    "        ''')\n",
    "        cursor.execute(f'''\n",
    "            INSERT INTO {emp_table} (eno, ename, birtyday, level, position, salary, dno)\n",
    "            VALUES (1005, '孙明', '1988-12-25', 5, '教师', 30000.00, 1002)\n",
    "        ''')\n",
    "\n",
    "        conn.commit()\n",
    "        print(\"Database created and data inserted successfully.\")\n",
    "    except sqlite3.DatabaseError as e:\n",
    "        print(f\"Error during inserting test data: {e}\")\n",
    "        conn.rollback()\n",
    "    finally:\n",
    "        cursor.close()\n"
   ]
  },
  {
   "cell_type": "markdown",
   "id": "2656bc2f",
   "metadata": {},
   "source": [
    "## 基本约束设计的定义部分\n",
    "**Emp( eno, ename, birtyday, level, position, salary, dno )**  \n",
    "**Dept( dno, dname, budget, manager )**\n",
    "\n",
    "1. 声明eno和dno是递增序列号形式的主码，长度为4的整型，形式为0001,0002，…\n",
    "2. 声明Emp中的dno为参照Dept的外码， Dept的manager为参照Emp的外码\n",
    "3. 测试外码定义的三种形式(最后再测试)\n",
    "4. 限定dname为枚举型（数学学院、计算机学院、智能学院、电子学院、元培学院）\n",
    "5. 限定position为枚举型（教师、教务、会计、秘书）\n",
    "6. 限定level为1到5，缺省为3，salary为2000~200000"
   ]
  },
  {
   "cell_type": "code",
   "execution_count": 7,
   "id": "8232e040",
   "metadata": {},
   "outputs": [],
   "source": [
    "def create_table(conn):\n",
    "    # default using no action\n",
    "    clenup(conn, 'Emp', 'Dept')\n",
    "    cursor = conn.cursor()\n",
    "    cursor.execute('PRAGMA foreign_keys = ON;')\n",
    "\n",
    "    # 创建 Dept 表\n",
    "    cursor.execute('''\n",
    "    CREATE TABLE Dept (\n",
    "        dno INTEGER,\n",
    "        dname TEXT NOT NULL,\n",
    "        budget REAL,\n",
    "        manager INTEGER,\n",
    "        PRIMARY KEY (dno),\n",
    "        CONSTRAINT fk_manager FOREIGN KEY (manager) REFERENCES Emp(eno) DEFERRABLE INITIALLY DEFERRED,\n",
    "        CONSTRAINT chk_dno_length CHECK (length(dno) = 4),\n",
    "        CONSTRAINT chk_dname_valid CHECK (dname IN ('数学学院', '计算机学院', '智能学院', '电子学院', '元培学院'))\n",
    "    );\n",
    "    ''')\n",
    "\n",
    "    # 创建 Emp 表\n",
    "    cursor.execute('''\n",
    "    CREATE TABLE Emp (\n",
    "        eno INTEGER,\n",
    "        ename TEXT NOT NULL,\n",
    "        birtyday DATE,\n",
    "        level INTEGER DEFAULT 3,\n",
    "        position TEXT NOT NULL,\n",
    "        salary REAL,\n",
    "        dno INTEGER,\n",
    "        PRIMARY KEY (eno),\n",
    "        CONSTRAINT fk_dno FOREIGN KEY (dno) REFERENCES Dept(dno) DEFERRABLE INITIALLY DEFERRED,\n",
    "        CONSTRAINT chk_eno_length CHECK (length(eno) = 4),\n",
    "        CONSTRAINT chk_level_range CHECK (level BETWEEN 1 AND 5),\n",
    "        CONSTRAINT chk_position_valid CHECK (position IN ('教师', '教务', '会计', '秘书')),\n",
    "        CONSTRAINT chk_salary_range CHECK (salary BETWEEN 2000 AND 200000),\n",
    "        CONSTRAINT chk_salary_level_match CHECK (\n",
    "            (level = 1 AND salary BETWEEN 2000 AND 4999) OR\n",
    "            (level = 2 AND salary BETWEEN 5000 AND 9999) OR\n",
    "            (level = 3 AND salary BETWEEN 10000 AND 14999) OR\n",
    "            (level = 4 AND salary BETWEEN 15000 AND 19999) OR\n",
    "            (level = 5 AND salary BETWEEN 20000 AND 200000)\n",
    "        )\n",
    "    );\n",
    "    ''')\n",
    "    cursor.close()"
   ]
  },
  {
   "cell_type": "markdown",
   "id": "3be75c06",
   "metadata": {},
   "source": [
    "## 基本约束设计的增删改操作（除去外码删除部分）"
   ]
  },
  {
   "cell_type": "code",
   "execution_count": 8,
   "id": "3f09c0c0",
   "metadata": {},
   "outputs": [
    {
     "name": "stdout",
     "output_type": "stream",
     "text": [
      "Inserting test data into Dept and Emp tables...\n",
      "Database created and data inserted successfully.\n",
      "Table: Dept\n",
      "    dno  dname   budget  manager\n",
      "0  1001  计算机学院  28000.0     1004\n",
      "1  1002   数学学院  30000.0     1005\n",
      "2  1003   智能学院   4000.0     1003\n",
      "\n",
      "\n",
      "Table: Dept_Restrict\n",
      "    dno  dname   budget  manager\n",
      "0  1001  计算机学院  28000.0     1004\n",
      "1  1002   数学学院  30000.0     1005\n",
      "2  1003   智能学院   4000.0     1003\n",
      "\n",
      "\n",
      "Table: Emp\n",
      "    eno ename    birtyday  level position   salary   dno\n",
      "0  1001    张伟  1980-05-15      3       教师  12000.0  1001\n",
      "1  1002    李娜  1990-03-20      2       秘书   8000.0  1002\n",
      "2  1003    王强  1985-11-10      1       会计   4000.0  1003\n",
      "3  1004    赵婷  1992-08-05      4       教务  16000.0  1001\n",
      "4  1005    孙明  1988-12-25      5       教师  30000.0  1002\n",
      "\n",
      "\n",
      "Table: Emp_Restrict\n",
      "    eno ename    birtyday  level position   salary   dno\n",
      "0  1001    张伟  1980-05-15      3       教师  12000.0  1001\n",
      "1  1002    李娜  1990-03-20      2       秘书   8000.0  1002\n",
      "2  1003    王强  1985-11-10      1       会计   4000.0  1003\n",
      "3  1004    赵婷  1992-08-05      4       教务  16000.0  1001\n",
      "4  1005    孙明  1988-12-25      5       教师  30000.0  1002\n",
      "\n",
      "\n"
     ]
    }
   ],
   "source": [
    "create_table(conn)\n",
    "insert_test_data(conn)\n",
    "displayDB(conn)"
   ]
  },
  {
   "cell_type": "code",
   "execution_count": 9,
   "id": "8d3f3ef4",
   "metadata": {},
   "outputs": [
    {
     "name": "stdout",
     "output_type": "stream",
     "text": [
      "Record inserted successfully.\n",
      "Operation completed successfully.\n",
      "After successful insert:\n",
      "Table: Dept\n",
      "    dno  dname   budget  manager\n",
      "0  1001  计算机学院  28000.0     1004\n",
      "1  1002   数学学院  30000.0     1005\n",
      "2  1003   智能学院   4000.0     1003\n",
      "\n",
      "\n",
      "Table: Dept_Restrict\n",
      "    dno  dname   budget  manager\n",
      "0  1001  计算机学院  28000.0     1004\n",
      "1  1002   数学学院  30000.0     1005\n",
      "2  1003   智能学院   4000.0     1003\n",
      "\n",
      "\n",
      "Table: Emp\n",
      "    eno ename    birtyday  level position   salary   dno\n",
      "0  1001    张伟  1980-05-15      3       教师  12000.0  1001\n",
      "1  1002    李娜  1990-03-20      2       秘书   8000.0  1002\n",
      "2  1003    王强  1985-11-10      1       会计   4000.0  1003\n",
      "3  1004    赵婷  1992-08-05      4       教务  16000.0  1001\n",
      "4  1005    孙明  1988-12-25      5       教师  30000.0  1002\n",
      "5  1006    王芳  1995-01-01      3       教师  13000.0  1001\n",
      "\n",
      "\n",
      "Table: Emp_Restrict\n",
      "    eno ename    birtyday  level position   salary   dno\n",
      "0  1001    张伟  1980-05-15      3       教师  12000.0  1001\n",
      "1  1002    李娜  1990-03-20      2       秘书   8000.0  1002\n",
      "2  1003    王强  1985-11-10      1       会计   4000.0  1003\n",
      "3  1004    赵婷  1992-08-05      4       教务  16000.0  1001\n",
      "4  1005    孙明  1988-12-25      5       教师  30000.0  1002\n",
      "\n",
      "\n"
     ]
    }
   ],
   "source": [
    "# a successful insert into Emp table\n",
    "handle_error(conn, insert_emp, 1006, '王芳', '1995-01-01', 3, '教师', 13000.00, 1001)\n",
    "print(\"After successful insert:\")\n",
    "displayDB(conn)"
   ]
  },
  {
   "cell_type": "code",
   "execution_count": 10,
   "id": "5d2040e0",
   "metadata": {},
   "outputs": [
    {
     "name": "stdout",
     "output_type": "stream",
     "text": [
      "Error: CHECK constraint failed: chk_eno_length\n"
     ]
    }
   ],
   "source": [
    "# a failed insert into Emp table (due to chk_eno_length constraint)\n",
    "handle_error(conn, insert_emp, 100, '王芳', '1995-01-01', 2, '教师', 13000.00, 1001)"
   ]
  },
  {
   "cell_type": "code",
   "execution_count": 11,
   "id": "bb7c5686",
   "metadata": {},
   "outputs": [
    {
     "name": "stdout",
     "output_type": "stream",
     "text": [
      "Record inserted successfully.\n",
      "Error: FOREIGN KEY constraint failed\n"
     ]
    }
   ],
   "source": [
    "# a failed insert into Emp table (due to foreign key constraint)\n",
    "handle_error(conn, insert_emp, 1007, '李四', '1993-02-02', 3, '教师', 13000.00, 9999)"
   ]
  },
  {
   "cell_type": "code",
   "execution_count": 12,
   "id": "8f3f987e",
   "metadata": {},
   "outputs": [
    {
     "name": "stdout",
     "output_type": "stream",
     "text": [
      "Error: CHECK constraint failed: chk_level_range\n"
     ]
    }
   ],
   "source": [
    "# a failed insert into Emp table (due to chk_level_range constraint)\n",
    "handle_error(conn, insert_emp, 1007, '王芳', '1995-01-01', 6, '教师', 13000.00, 1001)"
   ]
  },
  {
   "cell_type": "code",
   "execution_count": 13,
   "id": "4efd62db",
   "metadata": {},
   "outputs": [
    {
     "name": "stdout",
     "output_type": "stream",
     "text": [
      "Error: CHECK constraint failed: chk_position_valid\n"
     ]
    }
   ],
   "source": [
    "# a failed insert into Emp table (due to chk_position_valid constraint)\n",
    "handle_error(conn, insert_emp, 1008, '王芳', '1995-01-01', 2, '经理', 13000.00, 1001)"
   ]
  },
  {
   "cell_type": "code",
   "execution_count": 14,
   "id": "19fd614a",
   "metadata": {},
   "outputs": [
    {
     "name": "stdout",
     "output_type": "stream",
     "text": [
      "Error: CHECK constraint failed: chk_salary_range\n"
     ]
    }
   ],
   "source": [
    "# a failed insert into Emp table (due to chk_salary_range constraint)\n",
    "handle_error(conn, insert_emp, 1009, '王芳', '1995-01-01', 2, '教师', 300000.00, 1001)"
   ]
  },
  {
   "cell_type": "code",
   "execution_count": 15,
   "id": "80c79401",
   "metadata": {},
   "outputs": [
    {
     "name": "stdout",
     "output_type": "stream",
     "text": [
      "Record inserted successfully.\n",
      "Operation completed successfully.\n",
      "After successful insert:\n",
      "Table: Dept\n",
      "    dno  dname    budget  manager\n",
      "0  1001  计算机学院   28000.0     1004\n",
      "1  1002   数学学院   30000.0     1005\n",
      "2  1003   智能学院    4000.0     1003\n",
      "3  1004   电子学院  400000.0     1004\n",
      "\n",
      "\n",
      "Table: Dept_Restrict\n",
      "    dno  dname   budget  manager\n",
      "0  1001  计算机学院  28000.0     1004\n",
      "1  1002   数学学院  30000.0     1005\n",
      "2  1003   智能学院   4000.0     1003\n",
      "\n",
      "\n",
      "Table: Emp\n",
      "    eno ename    birtyday  level position   salary   dno\n",
      "0  1001    张伟  1980-05-15      3       教师  12000.0  1001\n",
      "1  1002    李娜  1990-03-20      2       秘书   8000.0  1002\n",
      "2  1003    王强  1985-11-10      1       会计   4000.0  1003\n",
      "3  1004    赵婷  1992-08-05      4       教务  16000.0  1001\n",
      "4  1005    孙明  1988-12-25      5       教师  30000.0  1002\n",
      "5  1006    王芳  1995-01-01      3       教师  13000.0  1001\n",
      "\n",
      "\n",
      "Table: Emp_Restrict\n",
      "    eno ename    birtyday  level position   salary   dno\n",
      "0  1001    张伟  1980-05-15      3       教师  12000.0  1001\n",
      "1  1002    李娜  1990-03-20      2       秘书   8000.0  1002\n",
      "2  1003    王强  1985-11-10      1       会计   4000.0  1003\n",
      "3  1004    赵婷  1992-08-05      4       教务  16000.0  1001\n",
      "4  1005    孙明  1988-12-25      5       教师  30000.0  1002\n",
      "\n",
      "\n"
     ]
    }
   ],
   "source": [
    "# a successful insert into Dept table\n",
    "handle_error(conn, insert_dept, 1004, '电子学院', 400000.00, 1004)\n",
    "print(\"After successful insert:\")\n",
    "displayDB(conn)"
   ]
  },
  {
   "cell_type": "code",
   "execution_count": 16,
   "id": "28097f96",
   "metadata": {},
   "outputs": [
    {
     "name": "stdout",
     "output_type": "stream",
     "text": [
      "Error: CHECK constraint failed: chk_dno_length\n"
     ]
    }
   ],
   "source": [
    "# a failed insert into Dept table (due to chk_dno_length constraint)\n",
    "handle_error(conn, insert_dept, 100, '电子学院', 400000.00, 1006)"
   ]
  },
  {
   "cell_type": "code",
   "execution_count": 17,
   "id": "b923b2f4",
   "metadata": {},
   "outputs": [
    {
     "name": "stdout",
     "output_type": "stream",
     "text": [
      "Record inserted successfully.\n",
      "Error: FOREIGN KEY constraint failed\n"
     ]
    }
   ],
   "source": [
    "# a failed insert into Dept table (due to foreign key constraint)\n",
    "handle_error(conn, insert_dept, 1005, '电子学院', 400000.00, 9999)"
   ]
  },
  {
   "cell_type": "code",
   "execution_count": 18,
   "id": "8b8745ee",
   "metadata": {},
   "outputs": [
    {
     "name": "stdout",
     "output_type": "stream",
     "text": [
      "Error: CHECK constraint failed: chk_dname_valid\n"
     ]
    }
   ],
   "source": [
    "# a failed insert into Dept table (due to chk_dname_valid constraint)\n",
    "handle_error(conn, insert_dept, 1005, '物理学院', 400000.00, 1006)"
   ]
  },
  {
   "cell_type": "code",
   "execution_count": 19,
   "id": "d781b751",
   "metadata": {},
   "outputs": [
    {
     "name": "stdout",
     "output_type": "stream",
     "text": [
      "Error: UNIQUE constraint failed: Dept.dno\n"
     ]
    }
   ],
   "source": [
    "# a failed insert into Dept table (due to primary key constraint)\n",
    "handle_error(conn, insert_dept, 1001, '电子学院', 400000.00, 1006)"
   ]
  },
  {
   "cell_type": "code",
   "execution_count": 20,
   "id": "636639ea",
   "metadata": {},
   "outputs": [
    {
     "name": "stdout",
     "output_type": "stream",
     "text": [
      "Record updated successfully.\n",
      "Operation completed successfully.\n",
      "After successful update:\n",
      "Table: Dept\n",
      "    dno  dname    budget  manager\n",
      "0  1001  计算机学院   28000.0     1004\n",
      "1  1002   数学学院   30000.0     1005\n",
      "2  1003   智能学院    4000.0     1003\n",
      "3  1004   电子学院  400000.0     1004\n",
      "\n",
      "\n",
      "Table: Dept_Restrict\n",
      "    dno  dname   budget  manager\n",
      "0  1001  计算机学院  28000.0     1004\n",
      "1  1002   数学学院  30000.0     1005\n",
      "2  1003   智能学院   4000.0     1003\n",
      "\n",
      "\n",
      "Table: Emp\n",
      "    eno ename    birtyday  level position   salary   dno\n",
      "0  1001    张伟  1980-05-15      3       教师  12000.0  1001\n",
      "1  1002    李娜  1990-03-20      2       秘书   8000.0  1002\n",
      "2  1003    王强  1985-11-10      1       会计   4000.0  1003\n",
      "3  1004    赵婷  1992-08-05      4       教务  16000.0  1001\n",
      "4  1005    孙明  1988-12-25      5       教师  30000.0  1002\n",
      "5  1006    张三  1995-01-01      3       教师  14000.0  1001\n",
      "\n",
      "\n",
      "Table: Emp_Restrict\n",
      "    eno ename    birtyday  level position   salary   dno\n",
      "0  1001    张伟  1980-05-15      3       教师  12000.0  1001\n",
      "1  1002    李娜  1990-03-20      2       秘书   8000.0  1002\n",
      "2  1003    王强  1985-11-10      1       会计   4000.0  1003\n",
      "3  1004    赵婷  1992-08-05      4       教务  16000.0  1001\n",
      "4  1005    孙明  1988-12-25      5       教师  30000.0  1002\n",
      "\n",
      "\n"
     ]
    }
   ],
   "source": [
    "# a successful update on Emp table\n",
    "handle_error(conn, update_emp, eno=1006, ename='张三', salary=14000.00)\n",
    "print(\"After successful update:\")\n",
    "displayDB(conn)"
   ]
  },
  {
   "cell_type": "code",
   "execution_count": 21,
   "id": "97eae793",
   "metadata": {},
   "outputs": [
    {
     "name": "stdout",
     "output_type": "stream",
     "text": [
      "Value Error: Employee with eno 1010 not found.\n"
     ]
    }
   ],
   "source": [
    "# a failed update on Emp table (due to primary key constraint)\n",
    "handle_error(conn, update_emp, eno=1010, ename='李四', dno=1001)"
   ]
  },
  {
   "cell_type": "code",
   "execution_count": 22,
   "id": "327de630",
   "metadata": {},
   "outputs": [
    {
     "name": "stdout",
     "output_type": "stream",
     "text": [
      "Record updated successfully.\n",
      "Error: FOREIGN KEY constraint failed\n"
     ]
    }
   ],
   "source": [
    "# a failed update on Emp table (due to foreign key constraint)\n",
    "handle_error(conn, update_emp, eno=1006, dno=9999)"
   ]
  },
  {
   "cell_type": "code",
   "execution_count": 23,
   "id": "7eda9a8b",
   "metadata": {},
   "outputs": [
    {
     "name": "stdout",
     "output_type": "stream",
     "text": [
      "Error: CHECK constraint failed: chk_level_range\n"
     ]
    }
   ],
   "source": [
    "# a failed update on Emp table (due to chk_level_range constraint)\n",
    "handle_error(conn, update_emp, eno=1006, level=10)"
   ]
  },
  {
   "cell_type": "code",
   "execution_count": 24,
   "id": "1bc26d1e",
   "metadata": {},
   "outputs": [
    {
     "name": "stdout",
     "output_type": "stream",
     "text": [
      "Error: CHECK constraint failed: chk_position_valid\n"
     ]
    }
   ],
   "source": [
    "# a failed update on Emp table (due to chk_position_valid constraint)\n",
    "handle_error(conn, update_emp, eno=1006, position='总监')"
   ]
  },
  {
   "cell_type": "code",
   "execution_count": 25,
   "id": "2483ec57",
   "metadata": {},
   "outputs": [
    {
     "name": "stdout",
     "output_type": "stream",
     "text": [
      "Error: CHECK constraint failed: chk_salary_range\n"
     ]
    }
   ],
   "source": [
    "# a failed update on Emp table (due to chk_salary_range constraint)\n",
    "handle_error(conn, update_emp, eno=1006, salary=300000.00)"
   ]
  },
  {
   "cell_type": "code",
   "execution_count": 26,
   "id": "7f659c71",
   "metadata": {},
   "outputs": [
    {
     "name": "stdout",
     "output_type": "stream",
     "text": [
      "Record updated successfully.\n",
      "Operation completed successfully.\n",
      "After successful update:\n",
      "Table: Dept\n",
      "    dno  dname    budget  manager\n",
      "0  1001  计算机学院   28000.0     1004\n",
      "1  1002   数学学院   30000.0     1005\n",
      "2  1003   智能学院    4000.0     1003\n",
      "3  1004   电子学院  600000.0     1004\n",
      "\n",
      "\n",
      "Table: Dept_Restrict\n",
      "    dno  dname   budget  manager\n",
      "0  1001  计算机学院  28000.0     1004\n",
      "1  1002   数学学院  30000.0     1005\n",
      "2  1003   智能学院   4000.0     1003\n",
      "\n",
      "\n",
      "Table: Emp\n",
      "    eno ename    birtyday  level position   salary   dno\n",
      "0  1001    张伟  1980-05-15      3       教师  12000.0  1001\n",
      "1  1002    李娜  1990-03-20      2       秘书   8000.0  1002\n",
      "2  1003    王强  1985-11-10      1       会计   4000.0  1003\n",
      "3  1004    赵婷  1992-08-05      4       教务  16000.0  1001\n",
      "4  1005    孙明  1988-12-25      5       教师  30000.0  1002\n",
      "5  1006    张三  1995-01-01      3       教师  14000.0  1001\n",
      "\n",
      "\n",
      "Table: Emp_Restrict\n",
      "    eno ename    birtyday  level position   salary   dno\n",
      "0  1001    张伟  1980-05-15      3       教师  12000.0  1001\n",
      "1  1002    李娜  1990-03-20      2       秘书   8000.0  1002\n",
      "2  1003    王强  1985-11-10      1       会计   4000.0  1003\n",
      "3  1004    赵婷  1992-08-05      4       教务  16000.0  1001\n",
      "4  1005    孙明  1988-12-25      5       教师  30000.0  1002\n",
      "\n",
      "\n"
     ]
    }
   ],
   "source": [
    "# a successful update on Dept table\n",
    "handle_error(conn, update_dept, dno=1004, budget=600000.00)\n",
    "print(\"After successful update:\")\n",
    "displayDB(conn)"
   ]
  },
  {
   "cell_type": "code",
   "execution_count": 27,
   "id": "b79a88fd",
   "metadata": {},
   "outputs": [
    {
     "name": "stdout",
     "output_type": "stream",
     "text": [
      "Value Error: Department with dno 10010 not found.\n"
     ]
    }
   ],
   "source": [
    "# a failed update on Dept table (due to primary key constraint)\n",
    "handle_error(conn, update_dept, dno=10010, budget=700000.00)"
   ]
  },
  {
   "cell_type": "code",
   "execution_count": 28,
   "id": "dca17dbf",
   "metadata": {},
   "outputs": [
    {
     "name": "stdout",
     "output_type": "stream",
     "text": [
      "Record updated successfully.\n",
      "Error: FOREIGN KEY constraint failed\n"
     ]
    }
   ],
   "source": [
    "# a failed update on Dept table (due to foreign key constraint)\n",
    "handle_error(conn, update_dept, dno=1004, manager=9999)"
   ]
  },
  {
   "cell_type": "code",
   "execution_count": 29,
   "id": "c500c321",
   "metadata": {},
   "outputs": [
    {
     "name": "stdout",
     "output_type": "stream",
     "text": [
      "Error: CHECK constraint failed: chk_dname_valid\n"
     ]
    }
   ],
   "source": [
    "# a failed update on Dept table (due to chk_dname_valid constraint)\n",
    "handle_error(conn, update_dept, dno=1004, dname='物理学院', budget=700000.00)"
   ]
  },
  {
   "cell_type": "code",
   "execution_count": 30,
   "id": "bc06f38f",
   "metadata": {},
   "outputs": [
    {
     "name": "stdout",
     "output_type": "stream",
     "text": [
      "Record deleted successfully.\n",
      "Operation completed successfully.\n",
      "After successful delete:\n",
      "Table: Dept\n",
      "    dno  dname    budget  manager\n",
      "0  1001  计算机学院   28000.0     1004\n",
      "1  1002   数学学院   30000.0     1005\n",
      "2  1003   智能学院    4000.0     1003\n",
      "3  1004   电子学院  600000.0     1004\n",
      "\n",
      "\n",
      "Table: Dept_Restrict\n",
      "    dno  dname   budget  manager\n",
      "0  1001  计算机学院  28000.0     1004\n",
      "1  1002   数学学院  30000.0     1005\n",
      "2  1003   智能学院   4000.0     1003\n",
      "\n",
      "\n",
      "Table: Emp\n",
      "    eno ename    birtyday  level position   salary   dno\n",
      "0  1001    张伟  1980-05-15      3       教师  12000.0  1001\n",
      "1  1002    李娜  1990-03-20      2       秘书   8000.0  1002\n",
      "2  1003    王强  1985-11-10      1       会计   4000.0  1003\n",
      "3  1004    赵婷  1992-08-05      4       教务  16000.0  1001\n",
      "4  1005    孙明  1988-12-25      5       教师  30000.0  1002\n",
      "\n",
      "\n",
      "Table: Emp_Restrict\n",
      "    eno ename    birtyday  level position   salary   dno\n",
      "0  1001    张伟  1980-05-15      3       教师  12000.0  1001\n",
      "1  1002    李娜  1990-03-20      2       秘书   8000.0  1002\n",
      "2  1003    王强  1985-11-10      1       会计   4000.0  1003\n",
      "3  1004    赵婷  1992-08-05      4       教务  16000.0  1001\n",
      "4  1005    孙明  1988-12-25      5       教师  30000.0  1002\n",
      "\n",
      "\n"
     ]
    }
   ],
   "source": [
    "# a successful delete on Emp table\n",
    "handle_error(conn, delete_emp, eno=1006)\n",
    "print(\"After successful delete:\")\n",
    "displayDB(conn)"
   ]
  },
  {
   "cell_type": "code",
   "execution_count": 31,
   "id": "f2a1a7a6",
   "metadata": {},
   "outputs": [
    {
     "name": "stdout",
     "output_type": "stream",
     "text": [
      "Record deleted successfully.\n",
      "Operation completed successfully.\n",
      "After successful delete:\n",
      "Table: Dept\n",
      "    dno  dname   budget  manager\n",
      "0  1001  计算机学院  28000.0     1004\n",
      "1  1002   数学学院  30000.0     1005\n",
      "2  1003   智能学院   4000.0     1003\n",
      "\n",
      "\n",
      "Table: Dept_Restrict\n",
      "    dno  dname   budget  manager\n",
      "0  1001  计算机学院  28000.0     1004\n",
      "1  1002   数学学院  30000.0     1005\n",
      "2  1003   智能学院   4000.0     1003\n",
      "\n",
      "\n",
      "Table: Emp\n",
      "    eno ename    birtyday  level position   salary   dno\n",
      "0  1001    张伟  1980-05-15      3       教师  12000.0  1001\n",
      "1  1002    李娜  1990-03-20      2       秘书   8000.0  1002\n",
      "2  1003    王强  1985-11-10      1       会计   4000.0  1003\n",
      "3  1004    赵婷  1992-08-05      4       教务  16000.0  1001\n",
      "4  1005    孙明  1988-12-25      5       教师  30000.0  1002\n",
      "\n",
      "\n",
      "Table: Emp_Restrict\n",
      "    eno ename    birtyday  level position   salary   dno\n",
      "0  1001    张伟  1980-05-15      3       教师  12000.0  1001\n",
      "1  1002    李娜  1990-03-20      2       秘书   8000.0  1002\n",
      "2  1003    王强  1985-11-10      1       会计   4000.0  1003\n",
      "3  1004    赵婷  1992-08-05      4       教务  16000.0  1001\n",
      "4  1005    孙明  1988-12-25      5       教师  30000.0  1002\n",
      "\n",
      "\n"
     ]
    }
   ],
   "source": [
    "# a successful delete on Dept table\n",
    "handle_error(conn, delete_dept, dno=1004)\n",
    "print(\"After successful delete:\")\n",
    "displayDB(conn)"
   ]
  },
  {
   "cell_type": "code",
   "execution_count": 32,
   "id": "6865de61",
   "metadata": {},
   "outputs": [
    {
     "name": "stdout",
     "output_type": "stream",
     "text": [
      "Value Error: Employee with eno 1006 not found.\n"
     ]
    }
   ],
   "source": [
    "# a failed delete on Emp table\n",
    "handle_error(conn, delete_emp, eno=1006)"
   ]
  },
  {
   "cell_type": "code",
   "execution_count": 33,
   "id": "9069f981",
   "metadata": {},
   "outputs": [],
   "source": [
    "clenup(conn, 'Emp', 'Dept')"
   ]
  },
  {
   "cell_type": "markdown",
   "id": "e4b55bc9",
   "metadata": {},
   "source": [
    "## 基本约束关系（外码删除相关）"
   ]
  },
  {
   "cell_type": "code",
   "execution_count": 34,
   "id": "08fa6553",
   "metadata": {},
   "outputs": [
    {
     "name": "stdout",
     "output_type": "stream",
     "text": [
      "Inserting test data into Dept_Restrict and Emp_Restrict tables...\n",
      "Database created and data inserted successfully.\n",
      "Table: Dept_Restrict\n",
      "    dno  dname   budget  manager\n",
      "0  1001  计算机学院  28000.0     1004\n",
      "1  1002   数学学院  30000.0     1005\n",
      "2  1003   智能学院   4000.0     1003\n",
      "\n",
      "\n",
      "Table: Emp_Restrict\n",
      "    eno ename    birtyday  level position   salary   dno\n",
      "0  1001    张伟  1980-05-15      3       教师  12000.0  1001\n",
      "1  1002    李娜  1990-03-20      2       秘书   8000.0  1002\n",
      "2  1003    王强  1985-11-10      1       会计   4000.0  1003\n",
      "3  1004    赵婷  1992-08-05      4       教务  16000.0  1001\n",
      "4  1005    孙明  1988-12-25      5       教师  30000.0  1002\n",
      "\n",
      "\n"
     ]
    }
   ],
   "source": [
    "clenup(conn, 'Emp_Restrict', 'Dept_Restrict')\n",
    "\n",
    "cursor = conn.cursor()\n",
    "cursor.execute('PRAGMA foreign_keys = ON;')\n",
    "\n",
    "# 重新创建 Dept & Emp 表，使用 RESTRICT 约束\n",
    "cursor.executescript('''\n",
    "-- 使用 RESTRICT 的 Dept_Restrict 表\n",
    "CREATE TABLE Dept_Restrict (\n",
    "    dno INTEGER,\n",
    "    dname TEXT NOT NULL,\n",
    "    budget REAL,\n",
    "    manager INTEGER,\n",
    "    PRIMARY KEY (dno),\n",
    "    FOREIGN KEY (manager) REFERENCES Emp_Restrict(eno) ON DELETE RESTRICT ON UPDATE RESTRICT DEFERRABLE INITIALLY DEFERRED,\n",
    "    CHECK (length(dno) = 4),\n",
    "    CHECK (dname IN ('数学学院', '计算机学院', '智能学院', '电子学院', '元培学院'))\n",
    ");\n",
    "                \n",
    "-- 使用 RESTRICT 的 Emp_Restrict 表\n",
    "CREATE TABLE Emp_Restrict (\n",
    "    eno INTEGER,\n",
    "    ename TEXT NOT NULL,\n",
    "    birtyday DATE,\n",
    "    level INTEGER DEFAULT 3,\n",
    "    position TEXT NOT NULL,\n",
    "    salary REAL,\n",
    "    dno INTEGER,\n",
    "    PRIMARY KEY (eno),\n",
    "    FOREIGN KEY (dno) REFERENCES Dept_Restrict(dno) ON DELETE RESTRICT ON UPDATE RESTRICT DEFERRABLE INITIALLY DEFERRED,\n",
    "    CHECK (length(eno) = 4),\n",
    "    CHECK (level BETWEEN 1 AND 5),\n",
    "    CHECK (position IN ('教师', '教务', '会计', '秘书')),\n",
    "    CHECK (salary BETWEEN 2000 AND 200000)\n",
    ");\n",
    "''')\n",
    "cursor.close()\n",
    "\n",
    "insert_test_data(conn, 'Dept_Restrict', 'Emp_Restrict')\n",
    "displayDB(conn)"
   ]
  },
  {
   "cell_type": "code",
   "execution_count": 35,
   "id": "d753b361",
   "metadata": {},
   "outputs": [
    {
     "name": "stdout",
     "output_type": "stream",
     "text": [
      "Error: FOREIGN KEY constraint failed\n",
      "After failed delete due to RESTRICT constraint:\n",
      "Table: Dept_Restrict\n",
      "    dno  dname   budget  manager\n",
      "0  1001  计算机学院  28000.0     1004\n",
      "1  1002   数学学院  30000.0     1005\n",
      "2  1003   智能学院   4000.0     1003\n",
      "\n",
      "\n",
      "Table: Emp_Restrict\n",
      "    eno ename    birtyday  level position   salary   dno\n",
      "0  1001    张伟  1980-05-15      3       教师  12000.0  1001\n",
      "1  1002    李娜  1990-03-20      2       秘书   8000.0  1002\n",
      "2  1003    王强  1985-11-10      1       会计   4000.0  1003\n",
      "3  1004    赵婷  1992-08-05      4       教务  16000.0  1001\n",
      "4  1005    孙明  1988-12-25      5       教师  30000.0  1002\n",
      "\n",
      "\n"
     ]
    }
   ],
   "source": [
    "# an example of RESTRICT constraint\n",
    "handle_error(conn, delete_emp, eno=1004, emp='Emp_Restrict')\n",
    "print(\"After failed delete due to RESTRICT constraint:\")\n",
    "displayDB(conn)"
   ]
  },
  {
   "cell_type": "code",
   "execution_count": 36,
   "id": "67e5a280",
   "metadata": {},
   "outputs": [],
   "source": [
    "clenup(conn, 'Emp_Restrict', 'Dept_Restrict')"
   ]
  },
  {
   "cell_type": "code",
   "execution_count": 37,
   "id": "02fb9abd",
   "metadata": {},
   "outputs": [
    {
     "name": "stdout",
     "output_type": "stream",
     "text": [
      "Inserting test data into Dept_Cascade and Emp_Cascade tables...\n",
      "Database created and data inserted successfully.\n",
      "Table: Dept_Cascade\n",
      "    dno  dname   budget  manager\n",
      "0  1001  计算机学院  28000.0     1004\n",
      "1  1002   数学学院  30000.0     1005\n",
      "2  1003   智能学院   4000.0     1003\n",
      "\n",
      "\n",
      "Table: Emp_Cascade\n",
      "    eno ename    birtyday  level position   salary   dno\n",
      "0  1001    张伟  1980-05-15      3       教师  12000.0  1001\n",
      "1  1002    李娜  1990-03-20      2       秘书   8000.0  1002\n",
      "2  1003    王强  1985-11-10      1       会计   4000.0  1003\n",
      "3  1004    赵婷  1992-08-05      4       教务  16000.0  1001\n",
      "4  1005    孙明  1988-12-25      5       教师  30000.0  1002\n",
      "\n",
      "\n"
     ]
    }
   ],
   "source": [
    "clenup(conn, 'Emp_Cascade', 'Dept_Cascade')\n",
    "\n",
    "cursor = conn.cursor()\n",
    "cursor.execute('PRAGMA foreign_keys = ON;')\n",
    "\n",
    "# 重新创建 Dept & Emp 表，使用 CASCADE 约束\n",
    "cursor.executescript('''\n",
    "-- 使用 CASCADE 的 Dept_Cascade 表\n",
    "CREATE TABLE Dept_Cascade (\n",
    "    dno INTEGER,\n",
    "    dname TEXT NOT NULL,\n",
    "    budget REAL,\n",
    "    manager INTEGER,\n",
    "    PRIMARY KEY (dno),\n",
    "    FOREIGN KEY (manager) REFERENCES Emp_Cascade(eno) ON DELETE CASCADE ON UPDATE CASCADE DEFERRABLE INITIALLY DEFERRED,\n",
    "    CHECK (length(dno) = 4),\n",
    "    CHECK (dname IN ('数学学院', '计算机学院', '智能学院', '电子学院', '元培学院'))\n",
    ");\n",
    "                     \n",
    "-- 使用 CASCADE 的 Emp_Cascade 表\n",
    "CREATE TABLE Emp_Cascade (\n",
    "    eno INTEGER,\n",
    "    ename TEXT NOT NULL,\n",
    "    birtyday DATE,\n",
    "    level INTEGER DEFAULT 3,\n",
    "    position TEXT NOT NULL,\n",
    "    salary REAL,\n",
    "    dno INTEGER,\n",
    "    PRIMARY KEY (eno),\n",
    "    FOREIGN KEY (dno) REFERENCES Dept_Cascade(dno) ON DELETE CASCADE ON UPDATE CASCADE DEFERRABLE INITIALLY DEFERRED,\n",
    "    CHECK (length(eno) = 4),\n",
    "    CHECK (level BETWEEN 1 AND 5),\n",
    "    CHECK (position IN ('教师', '教务', '会计', '秘书')),\n",
    "    CHECK (salary BETWEEN 2000 AND 200000)\n",
    ");\n",
    "''')\n",
    "cursor.close()\n",
    "\n",
    "insert_test_data(conn, 'Dept_Cascade', 'Emp_Cascade')\n",
    "displayDB(conn)"
   ]
  },
  {
   "cell_type": "code",
   "execution_count": 38,
   "id": "23150b24",
   "metadata": {},
   "outputs": [
    {
     "name": "stdout",
     "output_type": "stream",
     "text": [
      "Record deleted successfully.\n",
      "Operation completed successfully.\n",
      "After successful delete due to CASCADE constraint:\n",
      "Table: Dept_Cascade\n",
      "    dno dname   budget  manager\n",
      "0  1002  数学学院  30000.0     1005\n",
      "1  1003  智能学院   4000.0     1003\n",
      "\n",
      "\n",
      "Table: Emp_Cascade\n",
      "    eno ename    birtyday  level position   salary   dno\n",
      "0  1002    李娜  1990-03-20      2       秘书   8000.0  1002\n",
      "1  1003    王强  1985-11-10      1       会计   4000.0  1003\n",
      "2  1005    孙明  1988-12-25      5       教师  30000.0  1002\n",
      "\n",
      "\n"
     ]
    }
   ],
   "source": [
    "# an example of CASCADE constraint\n",
    "handle_error(conn, delete_emp, eno=1004, emp='Emp_Cascade')\n",
    "print(\"After successful delete due to CASCADE constraint:\")\n",
    "displayDB(conn)"
   ]
  },
  {
   "cell_type": "code",
   "execution_count": 39,
   "id": "e1e392ef",
   "metadata": {},
   "outputs": [],
   "source": [
    "clenup(conn, 'Emp_Cascade', 'Dept_Cascade')"
   ]
  },
  {
   "cell_type": "code",
   "execution_count": 40,
   "id": "0e6bdf64",
   "metadata": {},
   "outputs": [
    {
     "name": "stdout",
     "output_type": "stream",
     "text": [
      "Inserting test data into Dept_SetNull and Emp_SetNull tables...\n",
      "Database created and data inserted successfully.\n",
      "Table: Dept_SetNull\n",
      "    dno  dname   budget  manager\n",
      "0  1001  计算机学院  28000.0     1004\n",
      "1  1002   数学学院  30000.0     1005\n",
      "2  1003   智能学院   4000.0     1003\n",
      "\n",
      "\n",
      "Table: Emp_SetNull\n",
      "    eno ename    birtyday  level position   salary   dno\n",
      "0  1001    张伟  1980-05-15      3       教师  12000.0  1001\n",
      "1  1002    李娜  1990-03-20      2       秘书   8000.0  1002\n",
      "2  1003    王强  1985-11-10      1       会计   4000.0  1003\n",
      "3  1004    赵婷  1992-08-05      4       教务  16000.0  1001\n",
      "4  1005    孙明  1988-12-25      5       教师  30000.0  1002\n",
      "\n",
      "\n"
     ]
    }
   ],
   "source": [
    "clenup(conn, 'Emp_SetNull', 'Dept_SetNull')\n",
    "\n",
    "cursor = conn.cursor()\n",
    "cursor.execute('PRAGMA foreign_keys = ON;')\n",
    "\n",
    "# 重新创建 Dept & Emp 表，使用 SET NULL 约束\n",
    "cursor.executescript('''\n",
    "-- 使用 SET NULL 的 Dept_SetNull 表\n",
    "CREATE TABLE Dept_SetNull (\n",
    "    dno INTEGER,\n",
    "    dname TEXT NOT NULL,\n",
    "    budget REAL,\n",
    "    manager INTEGER,\n",
    "    PRIMARY KEY (dno),\n",
    "    FOREIGN KEY (manager) REFERENCES Emp_SetNull(eno) ON DELETE SET NULL ON UPDATE SET NULL DEFERRABLE INITIALLY DEFERRED,\n",
    "    CHECK (length(dno) = 4),\n",
    "    CHECK (dname IN ('数学学院', '计算机学院', '智能学院', '电子学院', '元培学院'))\n",
    ");\n",
    "\n",
    "-- 使用 SET NULL 的 Emp_SetNull 表\n",
    "CREATE TABLE Emp_SetNull (\n",
    "    eno INTEGER,\n",
    "    ename TEXT NOT NULL,\n",
    "    birtyday DATE,\n",
    "    level INTEGER DEFAULT 3,\n",
    "    position TEXT NOT NULL,\n",
    "    salary REAL,\n",
    "    dno INTEGER,\n",
    "    PRIMARY KEY (eno),\n",
    "    FOREIGN KEY (dno) REFERENCES Dept_SetNull(dno) ON DELETE SET NULL ON UPDATE SET NULL DEFERRABLE INITIALLY DEFERRED,\n",
    "    CHECK (length(eno) = 4),\n",
    "    CHECK (level BETWEEN 1 AND 5),\n",
    "    CHECK (position IN ('教师', '教务', '会计', '秘书')),\n",
    "    CHECK (salary BETWEEN 2000 AND 200000)\n",
    ");\n",
    "''')\n",
    "cursor.close()\n",
    "\n",
    "insert_test_data(conn, 'Dept_SetNull', 'Emp_SetNull')\n",
    "displayDB(conn)"
   ]
  },
  {
   "cell_type": "code",
   "execution_count": 41,
   "id": "d0c07a35",
   "metadata": {},
   "outputs": [
    {
     "name": "stdout",
     "output_type": "stream",
     "text": [
      "Record deleted successfully.\n",
      "Operation completed successfully.\n",
      "After successful delete due to SET NULL constraint:\n",
      "Table: Dept_SetNull\n",
      "    dno  dname   budget  manager\n",
      "0  1001  计算机学院  28000.0      NaN\n",
      "1  1002   数学学院  30000.0   1005.0\n",
      "2  1003   智能学院   4000.0   1003.0\n",
      "\n",
      "\n",
      "Table: Emp_SetNull\n",
      "    eno ename    birtyday  level position   salary   dno\n",
      "0  1001    张伟  1980-05-15      3       教师  12000.0  1001\n",
      "1  1002    李娜  1990-03-20      2       秘书   8000.0  1002\n",
      "2  1003    王强  1985-11-10      1       会计   4000.0  1003\n",
      "3  1005    孙明  1988-12-25      5       教师  30000.0  1002\n",
      "\n",
      "\n"
     ]
    }
   ],
   "source": [
    "# an example of SET NULL constraint\n",
    "handle_error(conn, delete_emp, eno=1004, emp='Emp_SetNull')\n",
    "print(\"After successful delete due to SET NULL constraint:\")\n",
    "displayDB(conn)"
   ]
  },
  {
   "cell_type": "code",
   "execution_count": 42,
   "id": "23ec9904",
   "metadata": {},
   "outputs": [],
   "source": [
    "clenup(conn, 'Emp_SetNull', 'Dept_SetNull')"
   ]
  },
  {
   "cell_type": "markdown",
   "id": "b0d1bdc5",
   "metadata": {},
   "source": [
    "## 中级约束设计 延迟约束\n",
    "\n",
    "DEFERRABLE INITIALLY DEFERRED"
   ]
  },
  {
   "cell_type": "code",
   "execution_count": 43,
   "id": "37e435cd",
   "metadata": {},
   "outputs": [
    {
     "name": "stdout",
     "output_type": "stream",
     "text": [
      "Inserting test data into Dept and Emp tables...\n",
      "Database created and data inserted successfully.\n",
      "Table: Dept\n",
      "    dno  dname   budget  manager\n",
      "0  1001  计算机学院  28000.0     1004\n",
      "1  1002   数学学院  30000.0     1005\n",
      "2  1003   智能学院   4000.0     1003\n",
      "\n",
      "\n",
      "Table: Emp\n",
      "    eno ename    birtyday  level position   salary   dno\n",
      "0  1001    张伟  1980-05-15      3       教师  12000.0  1001\n",
      "1  1002    李娜  1990-03-20      2       秘书   8000.0  1002\n",
      "2  1003    王强  1985-11-10      1       会计   4000.0  1003\n",
      "3  1004    赵婷  1992-08-05      4       教务  16000.0  1001\n",
      "4  1005    孙明  1988-12-25      5       教师  30000.0  1002\n",
      "\n",
      "\n"
     ]
    }
   ],
   "source": [
    "create_table(conn)\n",
    "insert_test_data(conn)\n",
    "displayDB(conn)"
   ]
  },
  {
   "cell_type": "code",
   "execution_count": 44,
   "id": "4d30ee05",
   "metadata": {},
   "outputs": [
    {
     "name": "stdout",
     "output_type": "stream",
     "text": [
      "Error: FOREIGN KEY constraint failed\n"
     ]
    }
   ],
   "source": [
    "# a failed insert into Dept and Emp tables\n",
    "def imme_insert(cursor):\n",
    "    cursor.executescript('''\n",
    "        INSERT INTO Dept (dno, dname, budget, manager) \n",
    "        VALUES (1004, '电子学院', 500000.00, 1009);\n",
    "                   \n",
    "        INSERT INTO Emp (eno, ename, birtyday, level, position, salary, dno)\n",
    "        VALUES (1009, '李四', '1993-02-02', 2, '教师', 13000.00, 1004);\n",
    "    ''')\n",
    "    print(\"Record inserted successfully.\")\n",
    "\n",
    "handle_error(conn, imme_insert)"
   ]
  },
  {
   "cell_type": "code",
   "execution_count": 45,
   "id": "1a954904",
   "metadata": {},
   "outputs": [
    {
     "name": "stdout",
     "output_type": "stream",
     "text": [
      "Record inserted successfully.\n",
      "Operation completed successfully.\n",
      "Table: Dept\n",
      "    dno  dname    budget  manager\n",
      "0  1001  计算机学院   28000.0     1004\n",
      "1  1002   数学学院   30000.0     1005\n",
      "2  1003   智能学院    4000.0     1003\n",
      "3  1004   电子学院  500000.0     1009\n",
      "\n",
      "\n",
      "Table: Emp\n",
      "    eno ename    birtyday  level position   salary   dno\n",
      "0  1001    张伟  1980-05-15      3       教师  12000.0  1001\n",
      "1  1002    李娜  1990-03-20      2       秘书   8000.0  1002\n",
      "2  1003    王强  1985-11-10      1       会计   4000.0  1003\n",
      "3  1004    赵婷  1992-08-05      4       教务  16000.0  1001\n",
      "4  1005    孙明  1988-12-25      5       教师  30000.0  1002\n",
      "5  1009    李四  1993-02-02      3       教师  13000.0  1004\n",
      "\n",
      "\n"
     ]
    }
   ],
   "source": [
    "def delayed_insert(cursor):\n",
    "    cursor.execute('BEGIN DEFERRED TRANSACTION;')\n",
    "    cursor.execute('''\n",
    "        INSERT INTO Dept (dno, dname, budget, manager) \n",
    "        VALUES (1004, '电子学院', 500000.00, 1009)\n",
    "    ''')\n",
    "    cursor.execute('''\n",
    "        INSERT INTO Emp (eno, ename, birtyday, level, position, salary, dno)\n",
    "        VALUES (1009, '李四', '1993-02-02', 3, '教师', 13000.00, 1004)\n",
    "    ''')\n",
    "    print(\"Record inserted successfully.\")\n",
    "\n",
    "handle_error(conn, delayed_insert)\n",
    "displayDB(conn)"
   ]
  },
  {
   "cell_type": "markdown",
   "id": "acf893dc",
   "metadata": {},
   "source": [
    "## 中级约束设计 工资约束\n",
    "\n",
    "CONSTRAINT chk_salary_level_match CHECK (  \n",
    "        (level = 1 AND salary BETWEEN 2000 AND 4999) OR  \n",
    "        (level = 2 AND salary BETWEEN 5000 AND 9999) OR  \n",
    "        (level = 3 AND salary BETWEEN 10000 AND 14999) OR  \n",
    "        (level = 4 AND salary BETWEEN 15000 AND 19999) OR  \n",
    "        (level = 5 AND salary BETWEEN 20000 AND 200000)  \n",
    "    )  "
   ]
  },
  {
   "cell_type": "code",
   "execution_count": 46,
   "id": "aa6a3236",
   "metadata": {},
   "outputs": [
    {
     "name": "stdout",
     "output_type": "stream",
     "text": [
      "Record updated successfully.\n",
      "Operation completed successfully.\n",
      "After successful update:\n",
      "Table: Dept\n",
      "    dno  dname    budget  manager\n",
      "0  1001  计算机学院   28000.0     1004\n",
      "1  1002   数学学院   30000.0     1005\n",
      "2  1003   智能学院    4000.0     1003\n",
      "3  1004   电子学院  500000.0     1009\n",
      "\n",
      "\n",
      "Table: Emp\n",
      "    eno ename    birtyday  level position   salary   dno\n",
      "0  1001    张伟  1980-05-15      3       教师  12000.0  1001\n",
      "1  1002    李娜  1990-03-20      2       秘书   8000.0  1002\n",
      "2  1003    王强  1985-11-10      1       会计   4000.0  1003\n",
      "3  1004    赵婷  1992-08-05      4       教务  16000.0  1001\n",
      "4  1005    孙明  1988-12-25      5       教师  30000.0  1002\n",
      "5  1009    李四  1993-02-02      5       教师  25000.0  1004\n",
      "\n",
      "\n"
     ]
    }
   ],
   "source": [
    "# a successful update on salary and level columns in Emp table\n",
    "handle_error(conn, update_emp, eno=1009, salary=25000.00, level=5)\n",
    "print(\"After successful update:\")\n",
    "displayDB(conn)"
   ]
  },
  {
   "cell_type": "code",
   "execution_count": 47,
   "id": "215c382b",
   "metadata": {},
   "outputs": [
    {
     "name": "stdout",
     "output_type": "stream",
     "text": [
      "Error: CHECK constraint failed: chk_salary_level_match\n"
     ]
    }
   ],
   "source": [
    "# a failed update on Emp table (due to salary level mismatch)\n",
    "handle_error(conn, update_emp, eno=1009, salary=25000.00, level=2)"
   ]
  },
  {
   "cell_type": "markdown",
   "id": "39d802e5",
   "metadata": {},
   "source": [
    "## 中级约束设计 员工编码\n",
    "\n",
    "sqlite 暂不支持sql: create function, 仅仅采用python函数  \n",
    "下提供一种sql实现：  \n",
    "\n",
    "```sql\n",
    "DELIMITER $$\n",
    "\n",
    "CREATE FUNCTION generateSmartCode(p_eno INT) RETURNS VARCHAR(100)\n",
    "DETERMINISTIC\n",
    "BEGIN\n",
    "    DECLARE v_eno CHAR(4);\n",
    "    DECLARE v_dno CHAR(4);\n",
    "    DECLARE v_birth_year CHAR(4);\n",
    "    DECLARE v_level CHAR(2);\n",
    "    DECLARE v_position_code CHAR(2);\n",
    "    DECLARE v_manager CHAR(4);\n",
    "    \n",
    "    -- 查询\n",
    "    SELECT \n",
    "        LPAD(E.eno, 4, '0'),\n",
    "        LPAD(E.dno, 4, '0'),\n",
    "        YEAR(E.birtyday),\n",
    "        LPAD(E.level, 2, '0'),\n",
    "        IFNULL((SELECT code FROM PositionCode WHERE position = E.position), '00'),\n",
    "        LPAD(D.manager, 4, '0')\n",
    "    INTO v_eno, v_dno, v_birth_year, v_level, v_position_code, v_manager\n",
    "    FROM Emp E JOIN Dept D ON E.dno = D.dno\n",
    "    WHERE E.eno = p_eno;\n",
    "    \n",
    "    -- 拼接\n",
    "    RETURN CONCAT(v_eno, v_dno, v_birth_year, v_level, v_position_code, v_manager);\n",
    "END$$\n",
    "\n",
    "DELIMITER ;\n",
    "```"
   ]
  },
  {
   "cell_type": "code",
   "execution_count": 48,
   "id": "f8ff02ea",
   "metadata": {},
   "outputs": [],
   "source": [
    "# add new tables for position and department codes\n",
    "clenup(conn, 'PositionCode', 'DeptCode')\n",
    "cursor = conn.cursor()\n",
    "cursor.executescript('''\n",
    "    -- 职位编码表\n",
    "    CREATE TABLE PositionCode (\n",
    "        position TEXT PRIMARY KEY,\n",
    "        code TEXT NOT NULL\n",
    "    );\n",
    "\n",
    "    -- 院系编码表\n",
    "    CREATE TABLE DeptCode (\n",
    "        dname TEXT PRIMARY KEY,\n",
    "        code TEXT NOT NULL\n",
    "    );\n",
    "''')\n",
    "\n",
    "cursor.executescript('''\n",
    "    INSERT INTO PositionCode (position, code) VALUES\n",
    "    ('教师', '01'),\n",
    "    ('教务', '02'),\n",
    "    ('会计', '03'),\n",
    "    ('秘书', '04');\n",
    "\n",
    "    INSERT INTO DeptCode (dname, code) VALUES\n",
    "    ('数学学院', '01'),\n",
    "    ('计算机学院', '02'),\n",
    "    ('智能学院', '03'),\n",
    "    ('电子学院', '04'),\n",
    "    ('元培学院', '05');\n",
    "''')\n",
    "\n",
    "conn.commit()\n",
    "cursor.close()"
   ]
  },
  {
   "cell_type": "code",
   "execution_count": 49,
   "id": "6f1d8244",
   "metadata": {},
   "outputs": [],
   "source": [
    "def generate_smart_code(conn, eno):\n",
    "    cursor = conn.cursor()\n",
    "    cursor.execute('PRAGMA foreign_keys = ON;')\n",
    "\n",
    "    cursor.execute('''\n",
    "        SELECT Emp.eno, Emp.dno, strftime('%Y', Emp.birtyday) AS birth_year,\n",
    "               Emp.level, Emp.position,\n",
    "               Dept.manager\n",
    "        FROM Emp natural join Dept\n",
    "        WHERE Emp.eno = ?\n",
    "    ''', (eno,))\n",
    "    row = cursor.fetchone()\n",
    "\n",
    "    # 没找到该员工\n",
    "    if not row:\n",
    "        cursor.close()\n",
    "        return None \n",
    "\n",
    "    eno, dno, birth_year, level, position, manager = row\n",
    "\n",
    "    # 查职位编码\n",
    "    cursor.execute('SELECT code FROM PositionCode WHERE position = ?', (position,))\n",
    "    pos_row = cursor.fetchone()\n",
    "    position_code = pos_row[0] if pos_row else '00'\n",
    "\n",
    "    # 最后拼接\n",
    "    smart_code = f\"{eno:04d}{dno:04d}{birth_year}{int(level):02d}{position_code}{manager:04d}\"\n",
    "\n",
    "    cursor.close()\n",
    "    return smart_code\n",
    "\n",
    "def print_smart_code(conn, eno):\n",
    "    smart_code = generate_smart_code(conn, eno)\n",
    "    if smart_code:\n",
    "        print(f\"Smart code for employee {eno}: {smart_code}\")\n",
    "    else:\n",
    "        print(f\"Employee {eno} not found.\")"
   ]
  },
  {
   "cell_type": "code",
   "execution_count": 50,
   "id": "24671339",
   "metadata": {},
   "outputs": [
    {
     "name": "stdout",
     "output_type": "stream",
     "text": [
      "Smart code for employee 1009: 10091004199305011009\n",
      "Employee 1010 not found.\n"
     ]
    }
   ],
   "source": [
    "print_smart_code(conn, 1009)\n",
    "print_smart_code(conn, 1010)"
   ]
  },
  {
   "cell_type": "code",
   "execution_count": 51,
   "id": "543959d4",
   "metadata": {},
   "outputs": [],
   "source": [
    "clenup(conn, 'PositionCode', 'DeptCode')"
   ]
  },
  {
   "cell_type": "markdown",
   "id": "de0eb2b8",
   "metadata": {},
   "source": [
    "## 高级约束设计 \n",
    "\n",
    "1. 使用触发器来保证管理者的工资必须高于他所管理的任何一个员工\n",
    "2. 使用触发器保证任何一个员工工资的变化额度，都应该体现在他所在部门的预算上面，本质上这相当于实现了一个物化视图的一致性维护机制（触发器应该考虑到员工改变工作部门的情况，从一致性维护效率的角度，完全重算当然最简单，但希望还是实现基于更新行的增量更新） "
   ]
  },
  {
   "cell_type": "code",
   "execution_count": 52,
   "id": "335711be",
   "metadata": {},
   "outputs": [
    {
     "name": "stdout",
     "output_type": "stream",
     "text": [
      "Inserting test data into Dept and Emp tables...\n",
      "Database created and data inserted successfully.\n",
      "Table: Dept\n",
      "    dno  dname   budget  manager\n",
      "0  1001  计算机学院  28000.0     1004\n",
      "1  1002   数学学院  38000.0     1005\n",
      "2  1003   智能学院   4000.0     1003\n",
      "\n",
      "\n",
      "Table: Emp\n",
      "    eno ename    birtyday  level position   salary   dno\n",
      "0  1001    张伟  1980-05-15      3       教师  12000.0  1001\n",
      "1  1002    李娜  1990-03-20      2       秘书   8000.0  1002\n",
      "2  1003    王强  1985-11-10      1       会计   4000.0  1003\n",
      "3  1004    赵婷  1992-08-05      4       教务  16000.0  1001\n",
      "4  1005    孙明  1988-12-25      5       教师  30000.0  1002\n",
      "\n",
      "\n"
     ]
    }
   ],
   "source": [
    "clenup(conn, 'Emp', 'Dept')\n",
    "cursor = conn.cursor()\n",
    "cursor.execute('PRAGMA foreign_keys = ON;')\n",
    "\n",
    "# 创建 Dept 表\n",
    "cursor.execute('''\n",
    "    CREATE TABLE Dept (\n",
    "        dno INTEGER,\n",
    "        dname TEXT NOT NULL,\n",
    "        budget REAL,\n",
    "        manager INTEGER,\n",
    "        PRIMARY KEY (dno),\n",
    "        CONSTRAINT fk_manager FOREIGN KEY (manager) REFERENCES Emp(eno) DEFERRABLE INITIALLY DEFERRED,\n",
    "        CONSTRAINT chk_dno_length CHECK (length(dno) = 4),\n",
    "        CONSTRAINT chk_dname_valid CHECK (dname IN ('数学学院', '计算机学院', '智能学院', '电子学院', '元培学院'))\n",
    "    );\n",
    "''')\n",
    "\n",
    "# 创建 Emp 表\n",
    "cursor.execute('''\n",
    "    CREATE TABLE Emp (\n",
    "        eno INTEGER,\n",
    "        ename TEXT NOT NULL,\n",
    "        birtyday DATE,\n",
    "        level INTEGER DEFAULT 3,\n",
    "        position TEXT NOT NULL,\n",
    "        salary REAL,\n",
    "        dno INTEGER,\n",
    "        PRIMARY KEY (eno),\n",
    "        CONSTRAINT fk_dno FOREIGN KEY (dno) REFERENCES Dept(dno) DEFERRABLE INITIALLY DEFERRED,\n",
    "        CONSTRAINT chk_eno_length CHECK (length(eno) = 4),\n",
    "        CONSTRAINT chk_level_range CHECK (level BETWEEN 1 AND 5),\n",
    "        CONSTRAINT chk_position_valid CHECK (position IN ('教师', '教务', '会计', '秘书')),\n",
    "        CONSTRAINT chk_salary_range CHECK (salary BETWEEN 2000 AND 200000),\n",
    "        CONSTRAINT chk_salary_level_match CHECK (\n",
    "            (level = 1 AND salary BETWEEN 2000 AND 4999) OR\n",
    "            (level = 2 AND salary BETWEEN 5000 AND 9999) OR\n",
    "            (level = 3 AND salary BETWEEN 10000 AND 14999) OR\n",
    "            (level = 4 AND salary BETWEEN 15000 AND 19999) OR\n",
    "            (level = 5 AND salary BETWEEN 20000 AND 200000)\n",
    "        )\n",
    "    );\n",
    "''')\n",
    "\n",
    "# 处理工资不高于经理的触发器\n",
    "# 不考虑删除操作，因为删除时会依据外键约束删除\n",
    "cursor.executescript('''\n",
    "DROP TRIGGER IF EXISTS check_manager_salary_after_emp_insert;\n",
    "DROP TRIGGER IF EXISTS check_manager_salary_after_emp_update;\n",
    "DROP TRIGGER IF EXISTS check_manager_salary_after_dept_update;\n",
    "DROP TRIGGER IF EXISTS check_manager_salary_after_dept_insert;\n",
    "''')\n",
    "\n",
    "# 插入新员工时触发\n",
    "cursor.executescript('''\n",
    "CREATE TRIGGER check_manager_salary_after_emp_insert\n",
    "AFTER INSERT ON Emp\n",
    "FOR EACH ROW\n",
    "BEGIN\n",
    "    SELECT CASE\n",
    "        WHEN EXISTS (\n",
    "            SELECT 1\n",
    "            FROM Dept JOIN Emp AS M ON Dept.manager = M.eno\n",
    "            WHERE NEW.eno != M.eno AND\n",
    "                     Dept.dno = NEW.dno AND NEW.salary >= M.salary\n",
    "        )\n",
    "        THEN\n",
    "            RAISE(FAIL, '员工工资不能高于或等于其管理工资')\n",
    "    END;\n",
    "END;\n",
    "''')\n",
    "\n",
    "# 更新员工时触发\n",
    "cursor.executescript('''\n",
    "CREATE TRIGGER check_manager_salary_after_emp_update\n",
    "AFTER UPDATE ON Emp\n",
    "FOR EACH ROW\n",
    "BEGIN\n",
    "    SELECT CASE\n",
    "        WHEN EXISTS (\n",
    "            SELECT 1\n",
    "            FROM Dept JOIN Emp AS M ON Dept.manager = M.eno\n",
    "            WHERE NEW.eno != M.eno AND\n",
    "                     Dept.dno = NEW.dno AND NEW.salary >= M.salary \n",
    "        )\n",
    "        THEN\n",
    "            RAISE(FAIL, '更新失败：员工工资不能高于或等于其管理工资')\n",
    "    END;\n",
    "END;\n",
    "''')\n",
    "\n",
    "# 更新管理时触发\n",
    "cursor.executescript('''\n",
    "CREATE TRIGGER check_manager_salary_after_dept_update\n",
    "AFTER UPDATE OF manager ON Dept\n",
    "FOR EACH ROW\n",
    "BEGIN\n",
    "    SELECT CASE\n",
    "        WHEN EXISTS (\n",
    "            SELECT 1\n",
    "            FROM Emp\n",
    "            WHERE dno = NEW.dno AND eno != NEW.manager AND\n",
    "                     salary >= (SELECT salary FROM Emp WHERE eno = NEW.manager)\n",
    "        )\n",
    "        THEN\n",
    "            RAISE(FAIL, '更新失败：经理工资必须高于所有员工工资')\n",
    "    END;\n",
    "END;\n",
    "''')\n",
    "\n",
    "# 插入新部门时触发(其实理应不需要，新部门第一个就是管理员)\n",
    "cursor.executescript('''\n",
    "CREATE TRIGGER check_manager_salary_after_dept_insert\n",
    "AFTER INSERT ON Dept\n",
    "FOR EACH ROW\n",
    "BEGIN\n",
    "    SELECT CASE\n",
    "        WHEN EXISTS (\n",
    "            SELECT 1\n",
    "            FROM Emp\n",
    "            WHERE dno = NEW.dno AND eno != NEW.manager AND\n",
    "                     salary >= (SELECT salary FROM Emp WHERE eno = NEW.manager)\n",
    "        )\n",
    "        THEN\n",
    "            RAISE(FAIL, '插入失败：经理工资必须高于所有员工工资')\n",
    "    END;\n",
    "END;\n",
    "''')\n",
    "\n",
    "# 处理预算统计触发器\n",
    "cursor.executescript('''\n",
    "DROP TRIGGER IF EXISTS budget_statistics_trigger_after_insert;\n",
    "DROP TRIGGER IF EXISTS budget_statistics_trigger_after_update;\n",
    "DROP TRIGGER IF EXISTS budget_statistics_trigger_after_delete;\n",
    "DROP TRIGGER IF EXISTS budget_statistics_trigger_after_create;\n",
    "''')\n",
    "\n",
    "# 创建预算统计触发器\n",
    "cursor.executescript('''\n",
    "CREATE TRIGGER budget_statistics_trigger_after_create\n",
    "AFTER INSERT ON Dept\n",
    "FOR EACH ROW\n",
    "BEGIN\n",
    "    UPDATE Dept SET budget = 0 WHERE dno = NEW.dno;\n",
    "END;\n",
    "''')\n",
    "\n",
    "# 插入触发器\n",
    "cursor.executescript('''\n",
    "CREATE TRIGGER budget_statistics_trigger_after_insert\n",
    "AFTER INSERT ON Emp\n",
    "FOR EACH ROW\n",
    "BEGIN\n",
    "    UPDATE Dept SET budget = budget + NEW.salary WHERE dno = NEW.dno;\n",
    "END;\n",
    "''')\n",
    "\n",
    "# 删除触发器\n",
    "cursor.executescript('''\n",
    "CREATE TRIGGER budget_statistics_trigger_after_delete\n",
    "AFTER DELETE ON Emp\n",
    "FOR EACH ROW\n",
    "BEGIN\n",
    "    UPDATE Dept SET budget = budget - OLD.salary WHERE dno = OLD.dno;\n",
    "END;\n",
    "''')\n",
    "\n",
    "# 更新触发器\n",
    "cursor.executescript('''\n",
    "CREATE TRIGGER budget_statistics_trigger_after_update\n",
    "AFTER UPDATE OF salary, dno ON Emp\n",
    "FOR EACH ROW\n",
    "BEGIN\n",
    "    -- 部门没变，只更新差值\n",
    "    UPDATE Dept\n",
    "    SET budget = budget + (NEW.salary - OLD.salary)\n",
    "    WHERE dno = NEW.dno AND OLD.dno = NEW.dno;\n",
    "\n",
    "    -- 部门变了，分别扣旧部门、加新部门\n",
    "    UPDATE Dept\n",
    "    SET budget = budget - OLD.salary\n",
    "    WHERE dno = OLD.dno AND OLD.dno != NEW.dno;\n",
    "\n",
    "    UPDATE Dept\n",
    "    SET budget = budget + NEW.salary\n",
    "    WHERE dno = NEW.dno AND OLD.dno != NEW.dno;\n",
    "END;\n",
    "''')\n",
    "\n",
    "conn.commit()\n",
    "cursor.close()\n",
    "insert_test_data(conn)\n",
    "displayDB(conn)"
   ]
  },
  {
   "cell_type": "code",
   "execution_count": 53,
   "id": "f9d2bf95",
   "metadata": {},
   "outputs": [
    {
     "name": "stdout",
     "output_type": "stream",
     "text": [
      "Record inserted successfully.\n",
      "Operation completed successfully.\n",
      "After successful insert:\n",
      "Table: Dept\n",
      "    dno  dname   budget  manager\n",
      "0  1001  计算机学院  41000.0     1004\n",
      "1  1002   数学学院  38000.0     1005\n",
      "2  1003   智能学院   4000.0     1003\n",
      "\n",
      "\n",
      "Table: Emp\n",
      "    eno ename    birtyday  level position   salary   dno\n",
      "0  1001    张伟  1980-05-15      3       教师  12000.0  1001\n",
      "1  1002    李娜  1990-03-20      2       秘书   8000.0  1002\n",
      "2  1003    王强  1985-11-10      1       会计   4000.0  1003\n",
      "3  1004    赵婷  1992-08-05      4       教务  16000.0  1001\n",
      "4  1005    孙明  1988-12-25      5       教师  30000.0  1002\n",
      "5  1006    王芳  1995-01-01      3       教师  13000.0  1001\n",
      "\n",
      "\n"
     ]
    }
   ],
   "source": [
    "# a successful insert into Emp table\n",
    "handle_error(conn, insert_emp, 1006, '王芳', '1995-01-01', 3, '教师', 13000.00, 1001)\n",
    "print(\"After successful insert:\")\n",
    "displayDB(conn)"
   ]
  },
  {
   "cell_type": "code",
   "execution_count": 54,
   "id": "c16bdf4b",
   "metadata": {},
   "outputs": [
    {
     "name": "stdout",
     "output_type": "stream",
     "text": [
      "Error: 员工工资不能高于或等于其管理工资\n"
     ]
    }
   ],
   "source": [
    "# a failed insert into Emp table\n",
    "handle_error(conn, insert_emp, 1007, '王芳', '1995-01-01', 5, '教师', 30000.00, 1001)"
   ]
  },
  {
   "cell_type": "code",
   "execution_count": 55,
   "id": "41d28b61",
   "metadata": {},
   "outputs": [
    {
     "name": "stdout",
     "output_type": "stream",
     "text": [
      "Record updated successfully.\n",
      "Operation completed successfully.\n",
      "After successful update:\n",
      "Table: Dept\n",
      "    dno  dname   budget  manager\n",
      "0  1001  计算机学院  43500.0     1004\n",
      "1  1002   数学学院  38000.0     1005\n",
      "2  1003   智能学院   4000.0     1003\n",
      "\n",
      "\n",
      "Table: Emp\n",
      "    eno ename    birtyday  level position   salary   dno\n",
      "0  1001    张伟  1980-05-15      3       教师  12000.0  1001\n",
      "1  1002    李娜  1990-03-20      2       秘书   8000.0  1002\n",
      "2  1003    王强  1985-11-10      1       会计   4000.0  1003\n",
      "3  1004    赵婷  1992-08-05      4       教务  16000.0  1001\n",
      "4  1005    孙明  1988-12-25      5       教师  30000.0  1002\n",
      "5  1006    王芳  1995-01-01      4       教师  15500.0  1001\n",
      "\n",
      "\n"
     ]
    }
   ],
   "source": [
    "# a successful update on Emp table (change salary to 15500.00)\n",
    "handle_error(conn, update_emp, eno=1006, salary=15500.00, level=4)\n",
    "print(\"After successful update:\")\n",
    "displayDB(conn)"
   ]
  },
  {
   "cell_type": "code",
   "execution_count": 56,
   "id": "dedd9894",
   "metadata": {},
   "outputs": [
    {
     "name": "stdout",
     "output_type": "stream",
     "text": [
      "Error: 更新失败：员工工资不能高于或等于其管理工资\n"
     ]
    }
   ],
   "source": [
    "# a failed update on Emp table\n",
    "handle_error(conn, update_emp, eno=1006, salary=20000.00, level=5)"
   ]
  },
  {
   "cell_type": "code",
   "execution_count": 57,
   "id": "e0593eb5",
   "metadata": {},
   "outputs": [
    {
     "name": "stdout",
     "output_type": "stream",
     "text": [
      "Error: 更新失败：经理工资必须高于所有员工工资\n"
     ]
    }
   ],
   "source": [
    "# a failed update on Dept table (due to manager salary constraint)\n",
    "handle_error(conn, update_dept, dno=1001, manager=1006)"
   ]
  },
  {
   "cell_type": "code",
   "execution_count": 58,
   "id": "5aa8e9dc",
   "metadata": {},
   "outputs": [
    {
     "name": "stdout",
     "output_type": "stream",
     "text": [
      "Swapping managers: 1005 (salary: 30000.0, level: 5) from 1002 with 1004 (salary: 16000.0, level: 4) from 1001\n",
      "Managers of department 1002 and 1001 swapped successfully.\n",
      "Operation completed successfully.\n",
      "After swapping managers:\n",
      "Table: Dept\n",
      "    dno  dname   budget  manager\n",
      "0  1001  计算机学院  43500.0     1005\n",
      "1  1002   数学学院  38000.0     1004\n",
      "2  1003   智能学院   4000.0     1003\n",
      "\n",
      "\n",
      "Table: Emp\n",
      "    eno ename    birtyday  level position   salary   dno\n",
      "0  1001    张伟  1980-05-15      3       教师  12000.0  1001\n",
      "1  1002    李娜  1990-03-20      2       秘书   8000.0  1002\n",
      "2  1003    王强  1985-11-10      1       会计   4000.0  1003\n",
      "3  1004    赵婷  1992-08-05      5       教务  30000.0  1002\n",
      "4  1005    孙明  1988-12-25      4       教师  16000.0  1001\n",
      "5  1006    王芳  1995-01-01      4       教师  15500.0  1001\n",
      "\n",
      "\n"
     ]
    }
   ],
   "source": [
    "def swap_dept_manager(cursor, dno1, dno2):\n",
    "    # 查出两个部门的当前经理\n",
    "    cursor.execute('SELECT manager FROM Dept WHERE dno = ?', (dno1,))\n",
    "    row1 = cursor.fetchone()\n",
    "    if row1 is None:\n",
    "        raise ValueError(f\"Department {dno1} not found.\")\n",
    "    manager1 = row1[0]\n",
    "\n",
    "    cursor.execute('SELECT manager FROM Dept WHERE dno = ?', (dno2,))\n",
    "    row2 = cursor.fetchone()\n",
    "    if row2 is None:\n",
    "        raise ValueError(f\"Department {dno2} not found.\")\n",
    "    manager2 = row2[0]\n",
    "\n",
    "    # 查出两个经理的工资和级别\n",
    "    cursor.execute('SELECT salary, level FROM Emp WHERE eno = ?', (manager1,))\n",
    "    m1 = cursor.fetchone()\n",
    "    if m1 is None:\n",
    "        raise ValueError(f\"Manager {manager1} not found in Emp table.\")\n",
    "    salary1, level1 = m1\n",
    "\n",
    "    cursor.execute('SELECT salary, level FROM Emp WHERE eno = ?', (manager2,))\n",
    "    m2 = cursor.fetchone()\n",
    "    if m2 is None:\n",
    "        raise ValueError(f\"Manager {manager2} not found in Emp table.\")\n",
    "    salary2, level2 = m2\n",
    "    \n",
    "    # 保证工资较低的经理在后\n",
    "    if salary1 <= salary2:\n",
    "        tmp_salary = salary1\n",
    "        tmp_level = level1\n",
    "        tmp_dno = dno1\n",
    "        tmp_manager = manager1\n",
    "        dno1 = dno2\n",
    "        salary1 = salary2\n",
    "        level1 = level2\n",
    "        manager1 = manager2\n",
    "        dno2 = tmp_dno\n",
    "        salary2 = tmp_salary\n",
    "        level2 = tmp_level\n",
    "        manager2 = tmp_manager\n",
    "\n",
    "    print(f\"Swapping managers: {manager1} (salary: {salary1}, level: {level1}) from {dno1} \"\n",
    "          f\"with {manager2} (salary: {salary2}, level: {level2}) from {dno2}\")\n",
    "    \n",
    "    # 开启事务\n",
    "    cursor.execute('BEGIN DEFERRED TRANSACTION;')\n",
    "\n",
    "    # 暂时提升后面部门的经理工资\n",
    "    cursor.execute('UPDATE Emp SET salary = ?, level = ? WHERE eno = ?',\n",
    "                    (salary1 + 0.01, level1, manager2))\n",
    "    # 交换部门的manager\n",
    "    cursor.execute('UPDATE Dept SET manager = ? WHERE dno = ?', (manager2, dno1))\n",
    "    cursor.execute('UPDATE Emp SET dno = ? WHERE eno = ?', (dno1, manager2))\n",
    "\n",
    "    cursor.execute('UPDATE Dept SET manager = ? WHERE dno = ?', (manager1, dno2))\n",
    "    cursor.execute('UPDATE Emp SET salary = ?, level = ?, dno = ? WHERE eno = ?'\n",
    "                   , (salary2, level2, dno2, manager1))\n",
    "    \n",
    "    cursor.execute('UPDATE Emp SET salary = ? WHERE eno = ?', (salary1, manager2))\n",
    "\n",
    "    print(f\"Managers of department {dno1} and {dno2} swapped successfully.\")\n",
    "\n",
    "handle_error(conn, swap_dept_manager, 1001, 1002)\n",
    "print(\"After swapping managers:\")\n",
    "displayDB(conn)"
   ]
  },
  {
   "cell_type": "code",
   "execution_count": 59,
   "id": "4b247213",
   "metadata": {},
   "outputs": [
    {
     "name": "stdout",
     "output_type": "stream",
     "text": [
      "Record updated successfully.\n",
      "Operation completed successfully.\n",
      "After successful update:\n",
      "Table: Dept\n",
      "    dno  dname   budget  manager\n",
      "0  1001  计算机学院  28000.0     1005\n",
      "1  1002   数学学院  63000.0     1004\n",
      "2  1003   智能学院   4000.0     1003\n",
      "\n",
      "\n",
      "Table: Emp\n",
      "    eno ename    birtyday  level position   salary   dno\n",
      "0  1001    张伟  1980-05-15      3       教师  12000.0  1001\n",
      "1  1002    李娜  1990-03-20      2       秘书   8000.0  1002\n",
      "2  1003    王强  1985-11-10      1       会计   4000.0  1003\n",
      "3  1004    赵婷  1992-08-05      5       教务  30000.0  1002\n",
      "4  1005    孙明  1988-12-25      4       教师  16000.0  1001\n",
      "5  1006    王芳  1995-01-01      5       教师  25000.0  1002\n",
      "\n",
      "\n"
     ]
    }
   ],
   "source": [
    "# a successful update on Emp's department and salary\n",
    "handle_error(conn, update_emp, eno=1006, dno=1002, salary=25000.00, level=5)\n",
    "print(\"After successful update:\")\n",
    "displayDB(conn)"
   ]
  },
  {
   "cell_type": "code",
   "execution_count": 60,
   "id": "e8b8699a",
   "metadata": {},
   "outputs": [
    {
     "name": "stdout",
     "output_type": "stream",
     "text": [
      "Record deleted successfully.\n",
      "Operation completed successfully.\n",
      "After successful delete:\n",
      "Table: Dept\n",
      "    dno  dname   budget  manager\n",
      "0  1001  计算机学院  28000.0     1005\n",
      "1  1002   数学学院  38000.0     1004\n",
      "2  1003   智能学院   4000.0     1003\n",
      "\n",
      "\n",
      "Table: Emp\n",
      "    eno ename    birtyday  level position   salary   dno\n",
      "0  1001    张伟  1980-05-15      3       教师  12000.0  1001\n",
      "1  1002    李娜  1990-03-20      2       秘书   8000.0  1002\n",
      "2  1003    王强  1985-11-10      1       会计   4000.0  1003\n",
      "3  1004    赵婷  1992-08-05      5       教务  30000.0  1002\n",
      "4  1005    孙明  1988-12-25      4       教师  16000.0  1001\n",
      "\n",
      "\n"
     ]
    }
   ],
   "source": [
    "# a successful delete on Emp table\n",
    "handle_error(conn, delete_emp, eno=1006)\n",
    "print(\"After successful delete:\")\n",
    "displayDB(conn)"
   ]
  },
  {
   "cell_type": "code",
   "execution_count": 61,
   "id": "98156bec",
   "metadata": {},
   "outputs": [],
   "source": [
    "conn.close()"
   ]
  },
  {
   "cell_type": "markdown",
   "id": "236fa803",
   "metadata": {},
   "source": [
    "## 终极约束设计\n",
    "\n",
    "my_stock(stock_id, volume, avg_price, profit)： \n",
    "表示所持有的股票编号、数量、持仓平均价格、利润  \n",
    "trans(trans_id,stock_id, date, price, amount, sell_or_buy)： \n",
    "表示一次交易的编号、股票编号、交易日期、成交价格、成交数量、买入还是卖出  \n",
    "\n",
    "使用触发器完成下面的工作：\n",
    "1. 往trans里面插入一条记录时，根据其是买入还是卖出，调整my_stock中的volume以及avg_price。如果是初次插入的股票交易，就在my_stock中为该股票新建一条记录，profit置为0。注意，如果一笔卖出交易的amount大于my_stock中该股票的volume，说明是无效的下单交易，应该加以拒绝，直接抛弃。\n",
    "2. profit的计算方式如下：每当有卖出交易发生时，将其与尽可能远的买入交易进行匹配，比如如果trans中现有的记录为{(t01,s01,d01,10,1000,buy), (t02,s01,d02,12,500,buy)},如果现在插入{(t03,s01,d03,11,700,sold)}，本次交易产生的profit=(11-10)*700,如果再插入{(t04,s01,d04,9,700,sold)}，本次交易产生的profit=(9-10)*300 + (9-12)*400 = -1500.将每次卖出交易的profit都累加到my_stock的profit上。\n",
    "\n",
    "由于sqlite不支持for & if，我也没有想到替代方案，第二题将符合MySQL的部分放在下方，替换现在触发器中的sell成功部分即可\n",
    "\n",
    "```sql\n",
    "\n",
    "    -- Update the stock volume for a sell transaction     \n",
    "    -- Accumulate the profit from previous buy transactions\n",
    "    DECLARE profit_accumulated REAL DEFAULT 0;\n",
    "    DECLARE remaining_amount INT DEFAULT NEW.amount; \n",
    "                     \n",
    "    -- Calculate the total amount already sold from previous sell transactions\n",
    "    DECLARE total_selled_amount INT DEFAULT (\n",
    "        SELECT SUM(amount)\n",
    "        FROM trans\n",
    "        WHERE stock_id = NEW.stock_id AND sell_or_buy = 'S'\n",
    "    );\n",
    "                     \n",
    "    -- Loop through all previous buy transactions for this stock and match with the sell\n",
    "    FOR trans_row IN (\n",
    "        SELECT trans_id, price, amount\n",
    "        FROM trans\n",
    "        WHERE stock_id = NEW.stock_id AND sell_or_buy = 'B'\n",
    "        ORDER BY date ASC  -- Ensure buy transactions are processed in the order they occurred\n",
    "    ) DO\n",
    "        -- Skip the buy transaction if the amount has already been fully matched\n",
    "        DECLARE available_buy_amount INT DEFAULT trans_row.amount - total_selled_amount;\n",
    "        IF available_buy_amount <= 0 THEN\n",
    "            SET total_selled_amount = total_selled_amount - trans_row.amount;\n",
    "            CONTINUE;\n",
    "        ELSE\n",
    "            SET total_selled_amount = 0;\n",
    "        END IF;\n",
    "                     \n",
    "        -- Match as much as possible from the current buy transaction\n",
    "        DECLARE amount_to_match INT DEFAULT LEAST(remaining_amount, available_buy_amount);\n",
    "            \n",
    "        IF amount_to_match > 0 THEN\n",
    "            -- Calculate profit for the matched amount\n",
    "            DECLARE profit REAL DEFAULT (NEW.price - trans_row.price) * amount_to_match;\n",
    "            SET profit_accumulated = profit_accumulated + profit;\n",
    "            SET remaining_amount = remaining_amount - amount_to_match;\n",
    "\n",
    "            IF remaining_amount = 0 THEN\n",
    "                BREAK;\n",
    "            END IF;\n",
    "        END IF;\n",
    "    END FOR;\n",
    "\n",
    "                     \n",
    "    UPDATE my_stock\n",
    "    SET volume = volume - NEW.amount,\n",
    "        profit = profit + profit_accumulated\n",
    "    WHERE stock_id = NEW.stock_id AND NEW.sell_or_buy = 'S';\n",
    "```\n"
   ]
  },
  {
   "cell_type": "code",
   "execution_count": 67,
   "id": "b68c0413",
   "metadata": {},
   "outputs": [],
   "source": [
    "conn = sqlite3.connect('test2.db')\n",
    "\n",
    "clenup(conn, 'my_stock', 'trans')\n",
    "cursor = conn.cursor()\n",
    "cursor.execute('PRAGMA foreign_keys = ON;')\n",
    "\n",
    "cursor.executescript('''\n",
    "CREATE TABLE my_stock (\n",
    "    stock_id INTEGER PRIMARY KEY,  -- 股票编号\n",
    "    volume INTEGER,                -- 股票数量\n",
    "    avg_price REAL,                -- 持仓平均价格\n",
    "    profit REAL                    -- 利润\n",
    ");\n",
    "''')\n",
    "\n",
    "cursor.executescript('''                  \n",
    "CREATE TABLE trans (\n",
    "    trans_id INTEGER PRIMARY KEY,  -- 交易编号\n",
    "    stock_id INTEGER,              -- 股票编号\n",
    "    date INTEGER,                  -- 成交日期\n",
    "    price REAL,                    -- 成交价格\n",
    "    amount INTEGER,                -- 成交数量\n",
    "    sell_or_buy TEXT,              -- 'B' 或 'S'\n",
    "    FOREIGN KEY (stock_id) REFERENCES my_stock(stock_id),\n",
    "    CONSTRAINT chk_sell_or_buy CHECK (sell_or_buy IN ('B', 'S'))\n",
    ");\n",
    "''')\n",
    "\n",
    "cursor.execute('''\n",
    "DROP TRIGGER IF EXISTS trans_insert_trigger;\n",
    "''')\n",
    "\n",
    "cursor.executescript('''\n",
    "CREATE TRIGGER trans_insert_trigger\n",
    "BEFORE INSERT ON trans\n",
    "FOR EACH ROW\n",
    "BEGIN\n",
    "    -- For a buy transaction\n",
    "    INSERT OR IGNORE INTO my_stock (stock_id, volume, avg_price, profit)\n",
    "    VALUES (NEW.stock_id, 0, 0, 0);\n",
    "    \n",
    "    -- Update the stock volume and average price for a buy transaction\n",
    "    UPDATE my_stock\n",
    "    SET volume = volume + NEW.amount,\n",
    "        avg_price = (avg_price * volume + NEW.amount * NEW.price) / (volume + NEW.amount)\n",
    "    WHERE stock_id = NEW.stock_id AND NEW.sell_or_buy = 'B';\n",
    "\n",
    "    -- For a sell transaction, check if enough volume exists\n",
    "    -- If sell is attempted with more than available volume, reject the transaction\n",
    "    SELECT CASE \n",
    "               WHEN (SELECT volume FROM my_stock WHERE stock_id = NEW.stock_id) < NEW.amount\n",
    "               THEN RAISE(FAIL, 'Insufficient stock volume for sell transaction')\n",
    "               ELSE NULL\n",
    "           END;\n",
    "          \n",
    "    UPDATE my_stock\n",
    "    SET volume = volume - NEW.amount\n",
    "    WHERE stock_id = NEW.stock_id AND NEW.sell_or_buy = 'S';\n",
    "END;\n",
    "''')\n",
    "\n",
    "conn.commit()\n",
    "cursor.close()"
   ]
  },
  {
   "cell_type": "code",
   "execution_count": 74,
   "id": "05b2d2f0",
   "metadata": {},
   "outputs": [],
   "source": [
    "def insert_trans(cursor, trans_id, stock_id, date, price, amount, sell_or_buy):\n",
    "    cursor.execute('''\n",
    "        INSERT INTO trans (trans_id, stock_id, date, price, amount, sell_or_buy) \n",
    "        VALUES (?, ?, ?, ?, ?, ?)\n",
    "    ''', (trans_id, stock_id, date, price, amount, sell_or_buy))"
   ]
  },
  {
   "cell_type": "code",
   "execution_count": 75,
   "id": "76391abf",
   "metadata": {},
   "outputs": [
    {
     "name": "stdout",
     "output_type": "stream",
     "text": [
      "Operation completed successfully.\n",
      "Table: my_stock\n",
      "   stock_id  volume  avg_price  profit\n",
      "0         1    1000       10.0     0.0\n",
      "\n",
      "\n",
      "Table: trans\n",
      "   trans_id  stock_id  date  price  amount sell_or_buy\n",
      "0         1         1     1   10.0    1000           B\n",
      "\n",
      "\n"
     ]
    }
   ],
   "source": [
    "handle_error(conn, insert_trans, 1, 1, 1, 10, 1000, 'B')\n",
    "displayDB(conn)"
   ]
  },
  {
   "cell_type": "code",
   "execution_count": 76,
   "id": "7135145a",
   "metadata": {},
   "outputs": [
    {
     "name": "stdout",
     "output_type": "stream",
     "text": [
      "Operation completed successfully.\n",
      "Table: my_stock\n",
      "   stock_id  volume  avg_price  profit\n",
      "0         1    1500  10.333333     0.0\n",
      "\n",
      "\n",
      "Table: trans\n",
      "   trans_id  stock_id  date  price  amount sell_or_buy\n",
      "0         1         1     1   10.0    1000           B\n",
      "1         2         1     2   11.0     500           B\n",
      "\n",
      "\n"
     ]
    }
   ],
   "source": [
    "handle_error(conn, insert_trans, 2, 1, 2, 11, 500, 'B')\n",
    "displayDB(conn)"
   ]
  },
  {
   "cell_type": "code",
   "execution_count": 77,
   "id": "9253de35",
   "metadata": {},
   "outputs": [
    {
     "name": "stdout",
     "output_type": "stream",
     "text": [
      "Operation completed successfully.\n",
      "Table: my_stock\n",
      "   stock_id  volume  avg_price  profit\n",
      "0         1     700  10.333333     0.0\n",
      "\n",
      "\n",
      "Table: trans\n",
      "   trans_id  stock_id  date  price  amount sell_or_buy\n",
      "0         1         1     1   10.0    1000           B\n",
      "1         2         1     2   11.0     500           B\n",
      "2         3         1     3   12.0     800           S\n",
      "\n",
      "\n"
     ]
    }
   ],
   "source": [
    "handle_error(conn, insert_trans, 3, 1, 3, 12, 800, 'S')\n",
    "displayDB(conn)"
   ]
  },
  {
   "cell_type": "code",
   "execution_count": 78,
   "id": "d5472025",
   "metadata": {},
   "outputs": [
    {
     "name": "stdout",
     "output_type": "stream",
     "text": [
      "Error: Insufficient stock volume for sell transaction\n",
      "Table: my_stock\n",
      "   stock_id  volume  avg_price  profit\n",
      "0         1     700  10.333333     0.0\n",
      "\n",
      "\n",
      "Table: trans\n",
      "   trans_id  stock_id  date  price  amount sell_or_buy\n",
      "0         1         1     1   10.0    1000           B\n",
      "1         2         1     2   11.0     500           B\n",
      "2         3         1     3   12.0     800           S\n",
      "\n",
      "\n"
     ]
    }
   ],
   "source": [
    "handle_error(conn, insert_trans, 4, 1, 4, 12, 1000, 'S')\n",
    "displayDB(conn)"
   ]
  },
  {
   "cell_type": "code",
   "execution_count": 79,
   "id": "dffea726",
   "metadata": {},
   "outputs": [
    {
     "name": "stdout",
     "output_type": "stream",
     "text": [
      "Operation completed successfully.\n",
      "Table: my_stock\n",
      "   stock_id  volume  avg_price  profit\n",
      "0         1    1700    9.54902     0.0\n",
      "\n",
      "\n",
      "Table: trans\n",
      "   trans_id  stock_id  date  price  amount sell_or_buy\n",
      "0         1         1     1   10.0    1000           B\n",
      "1         2         1     2   11.0     500           B\n",
      "2         3         1     3   12.0     800           S\n",
      "3         5         1     5    9.0    1000           B\n",
      "\n",
      "\n"
     ]
    }
   ],
   "source": [
    "handle_error(conn, insert_trans, 5, 1, 5, 9, 1000, 'B')\n",
    "displayDB(conn)"
   ]
  },
  {
   "cell_type": "code",
   "execution_count": 80,
   "id": "09b4d4bb",
   "metadata": {},
   "outputs": [
    {
     "name": "stdout",
     "output_type": "stream",
     "text": [
      "Operation completed successfully.\n",
      "Table: my_stock\n",
      "   stock_id  volume  avg_price  profit\n",
      "0         1     900    9.54902     0.0\n",
      "\n",
      "\n",
      "Table: trans\n",
      "   trans_id  stock_id  date  price  amount sell_or_buy\n",
      "0         1         1     1   10.0    1000           B\n",
      "1         2         1     2   11.0     500           B\n",
      "2         3         1     3   12.0     800           S\n",
      "3         5         1     5    9.0    1000           B\n",
      "4         6         1     6   12.0     800           S\n",
      "\n",
      "\n"
     ]
    }
   ],
   "source": [
    "handle_error(conn, insert_trans, 6, 1, 6, 12, 800, 'S')\n",
    "displayDB(conn)"
   ]
  },
  {
   "cell_type": "code",
   "execution_count": 81,
   "id": "0220a961",
   "metadata": {},
   "outputs": [
    {
     "name": "stdout",
     "output_type": "stream",
     "text": [
      "Operation completed successfully.\n",
      "Table: my_stock\n",
      "   stock_id  volume  avg_price  profit\n",
      "0         1     100    9.54902     0.0\n",
      "\n",
      "\n",
      "Table: trans\n",
      "   trans_id  stock_id  date  price  amount sell_or_buy\n",
      "0         1         1     1   10.0    1000           B\n",
      "1         2         1     2   11.0     500           B\n",
      "2         3         1     3   12.0     800           S\n",
      "3         5         1     5    9.0    1000           B\n",
      "4         6         1     6   12.0     800           S\n",
      "5         7         1     7    7.0     800           S\n",
      "\n",
      "\n"
     ]
    }
   ],
   "source": [
    "handle_error(conn, insert_trans, 7, 1, 7, 7, 800, 'S')\n",
    "displayDB(conn)"
   ]
  }
 ],
 "metadata": {
  "kernelspec": {
   "display_name": "base",
   "language": "python",
   "name": "python3"
  },
  "language_info": {
   "codemirror_mode": {
    "name": "ipython",
    "version": 3
   },
   "file_extension": ".py",
   "mimetype": "text/x-python",
   "name": "python",
   "nbconvert_exporter": "python",
   "pygments_lexer": "ipython3",
   "version": "3.9.13"
  }
 },
 "nbformat": 4,
 "nbformat_minor": 5
}
