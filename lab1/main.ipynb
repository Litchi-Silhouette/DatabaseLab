{
 "cells": [
  {
   "cell_type": "code",
   "execution_count": 230,
   "id": "eb209893",
   "metadata": {},
   "outputs": [],
   "source": [
    "import sqlite3\n",
    "\n",
    "DB_CONNECTION = None"
   ]
  },
  {
   "cell_type": "code",
   "execution_count": 231,
   "id": "430e0f9c",
   "metadata": {},
   "outputs": [],
   "source": [
    "def createDB(path = ':memory:'):\n",
    "    conn = sqlite3.connect(path)\n",
    "    conn.execute(\"PRAGMA foreign_keys = 1\")\n",
    "    cursor = conn.cursor()\n",
    "    cursor.executescript('''\n",
    "    -- 用户表：存储平台用户核心信息\n",
    "    CREATE TABLE User (\n",
    "    UserID         INTEGER PRIMARY KEY AUTOINCREMENT,  -- 自增主键\n",
    "    Nickname       VARCHAR(50) NOT NULL UNIQUE,       -- 昵称唯一约束\n",
    "    Level          INTEGER DEFAULT 1 CHECK(Level > 0),-- 等级最小为1\n",
    "    RegisterTime   DATETIME NOT NULL DEFAULT CURRENT_TIMESTAMP\n",
    "    );\n",
    "\n",
    "    -- 主题分类表：内容分类（如NBA/影视）\n",
    "    CREATE TABLE Topic (\n",
    "    TopicID        INTEGER PRIMARY KEY AUTOINCREMENT,\n",
    "    TopicName      VARCHAR(30) NOT NULL UNIQUE,       -- 主题名唯一\n",
    "    CreateTime     DATETIME DEFAULT CURRENT_TIMESTAMP -- 新增创建时间字段\n",
    "    );\n",
    "\n",
    "    -- 帖子表：用户发布的主题帖\n",
    "    CREATE TABLE Post (\n",
    "    PostID         INTEGER PRIMARY KEY AUTOINCREMENT,\n",
    "    UserID         INTEGER NOT NULL,\n",
    "    Title          VARCHAR(200) NOT NULL CHECK(LENGTH(Title) >= 5), -- 标题长度限制\n",
    "    PublishTime    DATETIME NOT NULL DEFAULT CURRENT_TIMESTAMP,\n",
    "    FOREIGN KEY (UserID) REFERENCES User(UserID) ON DELETE CASCADE\n",
    "    );\n",
    "\n",
    "    -- 帖子-主题关联表（多对多关系）\n",
    "    CREATE TABLE PostTopic (\n",
    "    PostID         INTEGER NOT NULL,\n",
    "    TopicID        INTEGER NOT NULL,\n",
    "    PRIMARY KEY (PostID, TopicID),\n",
    "    FOREIGN KEY (PostID) REFERENCES Post(PostID) ON DELETE CASCADE,\n",
    "    FOREIGN KEY (TopicID) REFERENCES Topic(TopicID) ON DELETE RESTRICT\n",
    "    );\n",
    "\n",
    "    -- 评分对象表：需与帖子严格绑定\n",
    "    CREATE TABLE ScoreTarget (\n",
    "    TargetID       INTEGER PRIMARY KEY AUTOINCREMENT,\n",
    "    PostID         INTEGER NOT NULL,                  -- 强制绑定到一个帖子\n",
    "    TargetName     VARCHAR(100) NOT NULL CHECK(LENGTH(TargetName) >= 2),\n",
    "    Description    TEXT,\n",
    "    FOREIGN KEY (PostID) REFERENCES Post(PostID) ON DELETE CASCADE\n",
    "    );\n",
    "\n",
    "    -- 评分记录表：用户对对象的打分\n",
    "    CREATE TABLE ScoreRecord (\n",
    "    RecordID       INTEGER PRIMARY KEY AUTOINCREMENT,\n",
    "    UserID         INTEGER NOT NULL,\n",
    "    TargetID       INTEGER NOT NULL,\n",
    "    PostID         INTEGER NOT NULL,                  -- 冗余存储便于查询\n",
    "    Score          DECIMAL(3,1) NOT NULL CHECK(Score BETWEEN 0 AND 10),\n",
    "    RecordTime     DATETIME NOT NULL DEFAULT CURRENT_TIMESTAMP,\n",
    "    FOREIGN KEY (UserID) REFERENCES User(UserID) ON DELETE CASCADE,\n",
    "    FOREIGN KEY (TargetID) REFERENCES ScoreTarget(TargetID) ON DELETE CASCADE,\n",
    "    FOREIGN KEY (PostID) REFERENCES Post(PostID) ON DELETE CASCADE,\n",
    "    UNIQUE (UserID, TargetID)                         -- 防止重复评分\n",
    "    );\n",
    "\n",
    "    -- 评论表：支持楼中楼结构\n",
    "    CREATE TABLE Comment (\n",
    "    CommentID      INTEGER PRIMARY KEY AUTOINCREMENT,\n",
    "    PostID         INTEGER NOT NULL,\n",
    "    UserID         INTEGER NOT NULL,\n",
    "    Content        TEXT NOT NULL CHECK(LENGTH(Content) >= 5),\n",
    "    ParentID       INTEGER,                           -- 父评论ID实现嵌套\n",
    "    TargetID       INTEGER,                           -- 可选关联评分对象\n",
    "    CommentTime    DATETIME NOT NULL DEFAULT CURRENT_TIMESTAMP,\n",
    "    FOREIGN KEY (PostID) REFERENCES Post(PostID) ON DELETE CASCADE,\n",
    "    FOREIGN KEY (UserID) REFERENCES User(UserID) ON DELETE CASCADE,\n",
    "    FOREIGN KEY (ParentID) REFERENCES Comment(CommentID) ON DELETE CASCADE,\n",
    "    FOREIGN KEY (TargetID) REFERENCES ScoreTarget(TargetID) ON DELETE SET NULL\n",
    "    );\n",
    "\n",
    "    -- 用户行为日志表（审计用）\n",
    "    CREATE TABLE UserActionLog (\n",
    "    LogID          INTEGER PRIMARY KEY AUTOINCREMENT,\n",
    "    UserID         INTEGER NOT NULL,\n",
    "    ActionType     VARCHAR(20) NOT NULL CHECK(ActionType IN (\n",
    "        'CREATE_POST','COMMENT','SCORE','LIKE','FAVORITE')), -- 枚举约束\n",
    "    TargetType     VARCHAR(20) NOT NULL CHECK(TargetType IN (\n",
    "        'post','comment','target')),\n",
    "    TargetID       INTEGER NOT NULL,\n",
    "    ActionTime     DATETIME NOT NULL DEFAULT CURRENT_TIMESTAMP,\n",
    "    FOREIGN KEY (UserID) REFERENCES User(UserID) ON DELETE CASCADE\n",
    "    );\n",
    "\n",
    "    -- 帖子收藏表\n",
    "    CREATE TABLE FavoritePost (\n",
    "    UserID         INTEGER NOT NULL,\n",
    "    PostID         INTEGER NOT NULL,\n",
    "    FavoriteTime   DATETIME NOT NULL DEFAULT CURRENT_TIMESTAMP,\n",
    "    PRIMARY KEY (UserID, PostID),\n",
    "    FOREIGN KEY (UserID) REFERENCES User(UserID) ON DELETE CASCADE,\n",
    "    FOREIGN KEY (PostID) REFERENCES Post(PostID) ON DELETE CASCADE\n",
    "    );\n",
    "\n",
    "    -- 评论点赞表\n",
    "    CREATE TABLE Like (\n",
    "    UserID         INTEGER NOT NULL,\n",
    "    CommentID      INTEGER NOT NULL,\n",
    "    LikeTime       DATETIME NOT NULL DEFAULT CURRENT_TIMESTAMP,\n",
    "    PRIMARY KEY (UserID, CommentID),\n",
    "    FOREIGN KEY (UserID) REFERENCES User(UserID) ON DELETE CASCADE,\n",
    "    FOREIGN KEY (CommentID) REFERENCES Comment(CommentID) ON DELETE CASCADE\n",
    "    );\n",
    "    ''')\n",
    "\n",
    "    # 提交事务\n",
    "    conn.commit()\n",
    "    \n",
    "    return conn\n"
   ]
  },
  {
   "cell_type": "code",
   "execution_count": 232,
   "id": "d67addd9",
   "metadata": {},
   "outputs": [],
   "source": [
    "def initDB(path =  ':memory:'):\n",
    "    global DB_CONNECTION\n",
    "    assert DB_CONNECTION is None\n",
    "    DB_CONNECTION = createDB(path)"
   ]
  },
  {
   "cell_type": "code",
   "execution_count": 233,
   "id": "7e3c900d",
   "metadata": {},
   "outputs": [],
   "source": [
    "def shutdownDB():\n",
    "    global DB_CONNECTION\n",
    "    assert DB_CONNECTION is not None\n",
    "    DB_CONNECTION.close()\n",
    "    DB_CONNECTION = None"
   ]
  },
  {
   "cell_type": "code",
   "execution_count": 234,
   "id": "54372ec3",
   "metadata": {},
   "outputs": [],
   "source": [
    "def getDB():\n",
    "    global DB_CONNECTION\n",
    "    assert DB_CONNECTION is not None\n",
    "    return DB_CONNECTION"
   ]
  },
  {
   "cell_type": "code",
   "execution_count": 235,
   "id": "b5046507",
   "metadata": {},
   "outputs": [],
   "source": [
    "\n",
    "def init_sample_data():\n",
    "    conn = getDB()\n",
    "    cursor = conn.cursor()\n",
    "    \n",
    "    # 清空现有数据（测试用）\n",
    "    cursor.execute(\"DELETE FROM Like\")\n",
    "    cursor.execute(\"DELETE FROM FavoritePost\")\n",
    "    cursor.execute(\"DELETE FROM UserActionLog\")\n",
    "    cursor.execute(\"DELETE FROM Comment\")\n",
    "    cursor.execute(\"DELETE FROM ScoreRecord\")\n",
    "    cursor.execute(\"DELETE FROM ScoreTarget\")\n",
    "    cursor.execute(\"DELETE FROM PostTopic\")\n",
    "    cursor.execute(\"DELETE FROM Post\")\n",
    "    cursor.execute(\"DELETE FROM Topic\")\n",
    "    cursor.execute(\"DELETE FROM User\")\n",
    "\n",
    "    # 1. 用户数据\n",
    "    users = [\n",
    "        ('虎扑JR123', 5),\n",
    "        ('湖人总冠军', 3),\n",
    "        ('数码评测君', 8),\n",
    "        ('电影爱好者', 2),\n",
    "        ('CBA观察员', 4)\n",
    "    ]\n",
    "    cursor.executemany('''\n",
    "    INSERT INTO User (Nickname, Level) \n",
    "    VALUES (?, ?)\n",
    "    ''', users)\n",
    "\n",
    "    # 2. 主题数据\n",
    "    topics = [\n",
    "        ('NBA', '2023-01-01 00:00:00'),\n",
    "        ('CBA', '2023-01-02 00:00:00'),\n",
    "        ('影视', '2023-01-03 00:00:00'),\n",
    "        ('数码', '2023-01-04 00:00:00')\n",
    "    ]\n",
    "    cursor.executemany('''\n",
    "    INSERT INTO Topic (TopicName, CreateTime) \n",
    "    VALUES (?, ?)\n",
    "    ''', topics)\n",
    "\n",
    "    # 3. 帖子数据（每个用户至少2个帖子）\n",
    "    posts = [\n",
    "        (1, '湖人vs勇士全场集锦！詹姆斯关键三分', '2023-05-01 19:30:00'),\n",
    "        (1, '约基奇最新赛季数据分析', '2023-05-02 14:00:00'),\n",
    "        (2, 'iPhone15上手实测报告', '2023-05-03 10:15:00'),\n",
    "        (3, '《流浪地球2》深度影评', '2023-05-04 20:45:00'),\n",
    "        (4, 'CBA总决赛辽宁vs浙江前瞻', '2023-05-05 09:00:00'),\n",
    "        (5, '小米13 Ultra相机评测', '2023-05-06 16:20:00')\n",
    "    ]\n",
    "    cursor.executemany('''\n",
    "    INSERT INTO Post (UserID, Title, PublishTime) \n",
    "    VALUES (?, ?, ?)\n",
    "    ''', posts)\n",
    "\n",
    "    # 4. 帖子-主题关联\n",
    "    post_topics = [\n",
    "        (1, 1),  # NBA\n",
    "        (2, 1),  # NBA\n",
    "        (3, 4),  # 数码\n",
    "        (4, 3),  # 影视\n",
    "        (5, 2),  # CBA\n",
    "        (6, 4)   # 数码\n",
    "    ]\n",
    "    cursor.executemany('''\n",
    "    INSERT INTO PostTopic (PostID, TopicID) \n",
    "    VALUES (?, ?)\n",
    "    ''', post_topics)\n",
    "\n",
    "    # 5. 评分对象（每个帖子2个对象）\n",
    "    score_targets = [\n",
    "        (1, '勒布朗·詹姆斯', '湖人队核心球员'),\n",
    "        (1, '斯蒂芬·库里', '勇士队当家球星'),\n",
    "        (3, 'iPhone15 Pro', '苹果最新旗舰手机'),\n",
    "        (3, '三星S23 Ultra', '安卓机皇'),\n",
    "        (4, '《流浪地球2》', '中国科幻大片'),\n",
    "        (5, '郭艾伦', '辽宁队后卫'),\n",
    "        (6, '小米13 Ultra', '徕卡影像旗舰')\n",
    "    ]\n",
    "    cursor.executemany('''\n",
    "    INSERT INTO ScoreTarget (PostID, TargetName, Description) \n",
    "    VALUES (?, ?, ?)\n",
    "    ''', score_targets)\n",
    "\n",
    "    # 6. 评分记录（每个对象3-5个评分）\n",
    "    score_records = [\n",
    "        (1, 1, 1, 9.5),\n",
    "        (2, 1, 1, 8.8),\n",
    "        (3, 1, 2, 9.0),\n",
    "        (1, 3, 3, 9.2),\n",
    "        (2, 3, 3, 8.5),\n",
    "        (4, 3, 3, 7.9),\n",
    "        (3, 4, 4, 9.7),\n",
    "        (5, 6, 6, 9.4)\n",
    "    ]\n",
    "    cursor.executemany('''\n",
    "    INSERT INTO ScoreRecord (UserID, TargetID, PostID, Score) \n",
    "    VALUES (?, ?, ?, ?)\n",
    "    ''', score_records)\n",
    "\n",
    "    # 7. 评论数据（含楼中楼）\n",
    "    comments = [\n",
    "        (1, 1, '詹姆斯今天太神了！', None, 1),\n",
    "        (2, 1, '库里三分还是稳', None, 2),\n",
    "        (3, 1, '裁判有几个判罚有问题', 1, 1),\n",
    "        (4, 3, 'iPhone的录像功能确实强', None, 3),\n",
    "        (6, 5, '小米这次影像进步很大', None, 7)\n",
    "    ]\n",
    "    cursor.executemany('''\n",
    "    INSERT INTO Comment (PostID, UserID, Content, ParentID, TargetID) \n",
    "    VALUES (?, ?, ?, ?, ?)\n",
    "    ''', comments)\n",
    "\n",
    "    # 8. 收藏记录\n",
    "    favorites = [\n",
    "        (2, 1),\n",
    "        (3, 3),\n",
    "        (4, 4),\n",
    "        (5, 6)\n",
    "    ]\n",
    "    cursor.executemany('''\n",
    "    INSERT INTO FavoritePost (UserID, PostID) \n",
    "    VALUES (?, ?)\n",
    "    ''', favorites)\n",
    "\n",
    "    # 9. 点赞记录\n",
    "    likes = [\n",
    "        (2, 1),\n",
    "        (3, 4),\n",
    "        (4, 5)\n",
    "    ]\n",
    "    cursor.executemany('''\n",
    "    INSERT INTO Like (UserID, CommentID) \n",
    "    VALUES (?, ?)\n",
    "    ''', likes)\n",
    "\n",
    "    # 10. 行为日志（自动生成）\n",
    "    actions = [\n",
    "        (1, 'CREATE_POST', 'post', 1),\n",
    "        (2, 'COMMENT', 'comment', 1),\n",
    "        (3, 'SCORE', 'target', 1),\n",
    "        (4, 'FAVORITE', 'post', 3),\n",
    "        (5, 'LIKE', 'comment', 5)\n",
    "    ]\n",
    "    cursor.executemany('''\n",
    "    INSERT INTO UserActionLog (UserID, ActionType, TargetType, TargetID) \n",
    "    VALUES (?, ?, ?, ?)\n",
    "    ''', actions)\n",
    "\n",
    "    conn.commit()\n"
   ]
  },
  {
   "cell_type": "code",
   "execution_count": 236,
   "id": "a28c988a",
   "metadata": {},
   "outputs": [],
   "source": [
    "def displayDB(conn, callback):\n",
    "    import pandas as pd\n",
    "    cursor = conn.cursor()\n",
    "    cursor.execute(\"SELECT name FROM sqlite_master WHERE type='table' ORDER BY name;\")\n",
    "    table_name = cursor.fetchall()\n",
    "    for table in table_name:\n",
    "        df = pd.read_sql_query(f\"SELECT * FROM {table[0]}\", con=conn)\n",
    "        callback(df)"
   ]
  },
  {
   "cell_type": "code",
   "execution_count": 237,
   "id": "1027cd5d",
   "metadata": {},
   "outputs": [],
   "source": [
    "def check_value(param, valid_values):\n",
    "    def _check_value(param, valid_values):\n",
    "        if param not in valid_values:\n",
    "            raise ValueError(f\"{param} is not supported, it should be the \" f\"subset of {valid_values}.\")\n",
    "\n",
    "    if isinstance(param, list):\n",
    "        for p in param:\n",
    "            _check_value(p, valid_values)\n",
    "    else:\n",
    "        _check_value(param, valid_values)\n",
    "    return param"
   ]
  },
  {
   "cell_type": "code",
   "execution_count": 238,
   "id": "7bb1ee47",
   "metadata": {},
   "outputs": [],
   "source": [
    "def check_type(param, types, elem = False):\n",
    "    def _check_type(param, types):\n",
    "        if type(param).__name__ not in types:\n",
    "            raise TypeError(f\"{param} is of type{type(param)} not \" f\"supported, should be one of type {types}.\")\n",
    "\n",
    "    if isinstance(param, list) and elem:\n",
    "        for p in param:\n",
    "            _check_type(p, types)\n",
    "    else:\n",
    "        _check_type(param, types)\n",
    "    return param"
   ]
  },
  {
   "cell_type": "code",
   "execution_count": 239,
   "id": "77ed3444",
   "metadata": {},
   "outputs": [
    {
     "name": "stdout",
     "output_type": "stream",
     "text": [
      "Database initialized.\n",
      "Sample data inserted.\n"
     ]
    }
   ],
   "source": [
    "initDB()\n",
    "print(\"Database initialized.\")\n",
    "init_sample_data()\n",
    "print(\"Sample data inserted.\")"
   ]
  },
  {
   "cell_type": "code",
   "execution_count": 240,
   "id": "7bcf2483",
   "metadata": {},
   "outputs": [],
   "source": [
    "def handle_reg_user(request, conn):\n",
    "    user_nickname = check_type(request[\"user_nickname\"], [\"str\"])\n",
    "    cursor = conn.cursor()\n",
    "    cursor.execute(\n",
    "    f'''\n",
    "    INSERT INTO User (Nickname) \n",
    "    VALUES (?)\n",
    "    RETURNING UserID\n",
    "    ''', (user_nickname,)\n",
    "    )\n",
    "    result = cursor.fetchone()\n",
    "    conn.commit()\n",
    "    cursor.close()\n",
    "    return {\n",
    "        \"user_id\" : result[0]\n",
    "    }"
   ]
  },
  {
   "cell_type": "code",
   "execution_count": 241,
   "id": "561127f3",
   "metadata": {},
   "outputs": [
    {
     "name": "stdout",
     "output_type": "stream",
     "text": [
      "新用户ID: 6\n"
     ]
    }
   ],
   "source": [
    "# 1. 用户注册（示例新增用户）\n",
    "request1 = {\"user_nickname\": \"新用户\"}\n",
    "response1 = handle_reg_user(request1, getDB())\n",
    "print(\"新用户ID:\", response1[\"user_id\"])  # 输出: 6"
   ]
  },
  {
   "cell_type": "code",
   "execution_count": 242,
   "id": "101c61ad",
   "metadata": {},
   "outputs": [],
   "source": [
    "def handle_reg_topic(request, conn):\n",
    "    topic_name = check_type(request[\"topic_name\"], [\"str\"])\n",
    "    cursor = conn.cursor()\n",
    "    cursor.execute(\n",
    "    '''\n",
    "    INSERT INTO Topic (TopicName)\n",
    "    VALUES (?)\n",
    "    RETURNING TopicID\n",
    "    ''',( topic_name,)\n",
    "    )\n",
    "    result = cursor.fetchone()\n",
    "    conn.commit()\n",
    "    cursor.close()\n",
    "    return {\n",
    "        \"topic_id\": result[0]\n",
    "    }"
   ]
  },
  {
   "cell_type": "code",
   "execution_count": 243,
   "id": "dc50b49d",
   "metadata": {},
   "outputs": [
    {
     "name": "stdout",
     "output_type": "stream",
     "text": [
      "新主题ID: 5\n"
     ]
    }
   ],
   "source": [
    "# 2. 创建主题（示例新增主题）\n",
    "request2 = {\"topic_name\": \"游戏\"}\n",
    "response2 = handle_reg_topic(request2, getDB())\n",
    "print(\"新主题ID:\", response2[\"topic_id\"])  # 输出: 5"
   ]
  },
  {
   "cell_type": "code",
   "execution_count": 244,
   "id": "723d8b82",
   "metadata": {},
   "outputs": [],
   "source": [
    "def handle_post_post(request, conn):\n",
    "    user_id = check_type(request[\"user_id\"], [\"str\", \"int\"])\n",
    "    topic_id = check_type(request[\"topic_id\"], [\"str\", \"int\"], True)\n",
    "    title = check_type(request[\"title\"], [\"str\"])\n",
    "    cursor = conn.cursor()\n",
    "    cursor.execute(\n",
    "    f'''\n",
    "    INSERT INTO Post (UserID, Title) \n",
    "    VALUES (?, ?)\n",
    "    RETURNING PostID\n",
    "    ''', (int(user_id),title,)\n",
    "    )\n",
    "    result = cursor.fetchone()\n",
    "    conn.commit()\n",
    "    cursor.close()\n",
    "    for topic in topic_id:\n",
    "        cursor = conn.cursor()\n",
    "        cursor.execute(\n",
    "        '''\n",
    "        INSERT INTO PostTopic (PostID, TopicID)\n",
    "        VALUES (?, ?)\n",
    "        ''',(result[0], int(topic),)\n",
    "        )\n",
    "    cursor = conn.cursor()\n",
    "    cursor.execute(\n",
    "    '''\n",
    "    INSERT INTO UserActionLog (UserID, ActionType, TargetType, TargetID)\n",
    "    VALUES (?, ?, ?, ?)\n",
    "    ''',(int(user_id), \"CREATE_POST\", \"post\", int(result[0]))\n",
    "    )\n",
    "    return {\n",
    "        \"post_id\": result[0]\n",
    "    }"
   ]
  },
  {
   "cell_type": "code",
   "execution_count": 245,
   "id": "5342251b",
   "metadata": {},
   "outputs": [
    {
     "name": "stdout",
     "output_type": "stream",
     "text": [
      "新帖子ID: 7\n"
     ]
    }
   ],
   "source": [
    "# 3. 发布帖子（用户1在NBA主题发帖）\n",
    "request3 = {\n",
    "    \"user_id\": 1,\n",
    "    \"topic_id\": [1],  # NBA主题\n",
    "    \"title\": \"东契奇绝杀集锦\"\n",
    "}\n",
    "response3 = handle_post_post(request3, getDB())\n",
    "print(\"新帖子ID:\", response3[\"post_id\"])  # 输出: 7"
   ]
  },
  {
   "cell_type": "code",
   "execution_count": 246,
   "id": "f9ec04ec",
   "metadata": {},
   "outputs": [],
   "source": [
    "def handle_post_target(request, conn):\n",
    "    post_id = check_type(request[\"post_id\"], [\"str\", \"int\"])\n",
    "    name = check_type(request[\"name\"], [\"str\"])\n",
    "    description = check_type(request[\"description\"], [\"str\"])\n",
    "    cursor = conn.cursor()\n",
    "    cursor.execute(\n",
    "    '''\n",
    "    INSERT INTO ScoreTarget (PostID, TargetName, Description) \n",
    "    VALUES (?, ?, ?)\n",
    "    RETURNING TargetID\n",
    "    ''',\n",
    "    (int(post_id), name, description)\n",
    "    )\n",
    "    result = cursor.fetchone()\n",
    "    conn.commit()\n",
    "    cursor.close()\n",
    "    return {\n",
    "        \"target_id\" : result[0]\n",
    "    }\n"
   ]
  },
  {
   "cell_type": "code",
   "execution_count": 247,
   "id": "5d1447ee",
   "metadata": {},
   "outputs": [
    {
     "name": "stdout",
     "output_type": "stream",
     "text": [
      "新评分对象ID: 8\n"
     ]
    }
   ],
   "source": [
    "# 4. 添加评分对象（在新帖添加对象）\n",
    "request4 = {\n",
    "    \"post_id\": 7,\n",
    "    \"name\": \"卢卡·东契奇\",\n",
    "    \"description\": \"独行侠核心球员\"\n",
    "}\n",
    "response4 = handle_post_target(request4, getDB())\n",
    "print(\"新评分对象ID:\", response4[\"target_id\"])  # 输出: 8"
   ]
  },
  {
   "cell_type": "code",
   "execution_count": 248,
   "id": "42ae960d",
   "metadata": {},
   "outputs": [],
   "source": [
    "def handle_post_comment_score(request, conn):\n",
    "    post_id = check_type(request[\"post_id\"], [\"str\", \"int\"])\n",
    "    target_id = check_type(request[\"target_id\"], [\"str\", \"int\"])\n",
    "    user_id = check_type(request[\"user_id\"], [\"str\", \"int\"])\n",
    "    content = check_type(request[\"content\"], \"str\")\n",
    "    score = check_type(request[\"score\"], [\"int\"])\n",
    "    \n",
    "    cursor = conn.cursor()\n",
    "    cursor.execute(\n",
    "    '''\n",
    "    INSERT INTO ScoreRecord (UserID, TargetID, PostID, Score)\n",
    "    VALUES (?, ?, ?, ?)\n",
    "    RETURNING RecordID\n",
    "    '''\n",
    "    ,(int(user_id), int(target_id), int(post_id), score,)\n",
    "    )\n",
    "    result1 = cursor.fetchone()\n",
    "    cursor.execute(\n",
    "    '''\n",
    "    INSERT INTO Comment (PostID, UserID, Content, TargetID)\n",
    "    VALUES (?, ?, ?, ?)\n",
    "    RETURNING CommentID\n",
    "    '''\n",
    "    ,(int(post_id), int(user_id), content, int(target_id))\n",
    "    )\n",
    "    result2 = cursor.fetchone()\n",
    "    cursor.execute(\n",
    "    '''\n",
    "    INSERT INTO UserActionLog (UserID, ActionType, TargetType, TargetID)\n",
    "    VALUES (?, ?, ?, ?)\n",
    "    ''',(int(user_id), \"SCORE\", \"target\", int(target_id))\n",
    "    )\n",
    "    cursor.execute(\n",
    "    '''\n",
    "    INSERT INTO UserActionLog (UserID, ActionType, TargetType, TargetID)\n",
    "    VALUES (?, ?, ?, ?)\n",
    "    ''',(int(user_id), \"COMMENT\", \"comment\", int(result2[0]))\n",
    "    )\n",
    "    conn.commit()\n",
    "    cursor.close()\n",
    "    return {\n",
    "        \"record_id\" : result1[0],\n",
    "        \"comment_id\": result2[0]\n",
    "    }"
   ]
  },
  {
   "cell_type": "code",
   "execution_count": 249,
   "id": "0af18a66",
   "metadata": {},
   "outputs": [
    {
     "name": "stdout",
     "output_type": "stream",
     "text": [
      "新评分记录: {'record_id': 9, 'comment_id': 6}\n"
     ]
    }
   ],
   "source": [
    "# 5. 发表带评分的评论（用户2给东契奇打分）\n",
    "request5 = {\n",
    "    \"post_id\": 7,\n",
    "    \"target_id\": 8,\n",
    "    \"user_id\": 2,\n",
    "    \"content\": \"东契奇关键球太稳了！\",\n",
    "    \"score\": 8\n",
    "}\n",
    "response5 = handle_post_comment_score(request5, getDB())\n",
    "print(\"新评分记录:\", response5)  # 输出包含record_id和comment_id"
   ]
  },
  {
   "cell_type": "code",
   "execution_count": 250,
   "id": "13a7a737",
   "metadata": {},
   "outputs": [],
   "source": [
    "def handle_post_comment_comment(request, conn):\n",
    "    post_id = check_type(request[\"post_id\"], [\"str\", \"int\"])\n",
    "    target_id = check_type(request[\"target_id\"], [\"str\", \"int\"])\n",
    "    user_id = check_type(request[\"user_id\"], [\"str\", \"int\"])\n",
    "    content = check_type(request[\"content\"], [\"str\"])\n",
    "    parent = check_type(request[\"parent\"], [\"str\", \"int\"])\n",
    "    cursor = conn.cursor()\n",
    "    cursor.execute(\n",
    "    '''\n",
    "    INSERT INTO Comment (PostID, UserID, Content, TargetID, ParentID)\n",
    "    VALUES (?, ?, ?, ?, ?)\n",
    "    RETURNING CommentID\n",
    "    '''\n",
    "    ,(int(post_id), int(user_id), content, int(target_id), int(parent))\n",
    "    )\n",
    "    result2 = cursor.fetchone()\n",
    "    cursor.execute(\n",
    "    '''\n",
    "    INSERT INTO UserActionLog (UserID, ActionType, TargetType, TargetID)\n",
    "    VALUES (?, ?, ?, ?)\n",
    "    ''',(int(user_id), \"COMMENT\", \"comment\", int(result2[0]))\n",
    "    )\n",
    "    conn.commit()\n",
    "    cursor.close()\n",
    "    return {\n",
    "        \"comment_id\": result2[0]\n",
    "    }"
   ]
  },
  {
   "cell_type": "code",
   "execution_count": 251,
   "id": "96b5403a",
   "metadata": {},
   "outputs": [
    {
     "name": "stdout",
     "output_type": "stream",
     "text": [
      "回复评论ID: 7\n"
     ]
    }
   ],
   "source": [
    "# 6. 回复评论（用户3回复上条评论）\n",
    "request6 = {\n",
    "    \"post_id\": 7,\n",
    "    \"target_id\": 8,\n",
    "    \"user_id\": 3,\n",
    "    \"content\": \"确实，比库里强多了\",\n",
    "    \"parent\": response5[\"comment_id\"]\n",
    "}\n",
    "response6 = handle_post_comment_comment(request6, getDB())\n",
    "print(\"回复评论ID:\", response6[\"comment_id\"])"
   ]
  },
  {
   "cell_type": "code",
   "execution_count": 252,
   "id": "602a52e5",
   "metadata": {},
   "outputs": [],
   "source": [
    "def handle_req_topic_posts(request, conn):\n",
    "    topic_id = check_type(request[\"topic_id\"], [\"str\", \"int\"])\n",
    "    cursor = conn.cursor()\n",
    "    cursor.execute(\n",
    "    f'''\n",
    "    SELECT Post.* \n",
    "    FROM Post\n",
    "    JOIN PostTopic USING(PostID)\n",
    "    WHERE PostTopic.TopicID = {topic_id}\n",
    "    '''\n",
    "    )\n",
    "    result = cursor.fetchall()\n",
    "    conn.commit()\n",
    "    cursor.close()\n",
    "    return [\n",
    "            {\n",
    "                \"post_id\": a,\n",
    "                \"user_id\": b,\n",
    "                \"title\": c,\n",
    "                \"post_time\": d\n",
    "            }\n",
    "            for a,b,c,d in result\n",
    "        ]"
   ]
  },
  {
   "cell_type": "code",
   "execution_count": 253,
   "id": "ff20761f",
   "metadata": {},
   "outputs": [
    {
     "name": "stdout",
     "output_type": "stream",
     "text": [
      "NBA主题帖子:\n",
      "1: 湖人vs勇士全场集锦！詹姆斯关键三分\n",
      "2: 约基奇最新赛季数据分析\n",
      "7: 东契奇绝杀集锦\n"
     ]
    }
   ],
   "source": [
    "# 7. 查询NBA主题帖子\n",
    "request7 = {\"topic_id\": 1}\n",
    "response7 = handle_req_topic_posts(request7, getDB())\n",
    "print(\"NBA主题帖子:\")\n",
    "for post in response7:  # 应包含帖子1/2/7\n",
    "    print(f\"{post['post_id']}: {post['title']}\")"
   ]
  },
  {
   "cell_type": "code",
   "execution_count": 254,
   "id": "4b1fce3c",
   "metadata": {},
   "outputs": [],
   "source": [
    "def handle_req_target_avgscore(request, conn):\n",
    "    post_id = check_type(request[\"post_id\"], [\"str\", \"int\"])\n",
    "    target_id =check_type(request[\"target_id\"], [\"str\", \"int\"])\n",
    "    cursor = conn.cursor()\n",
    "    cursor.execute(\n",
    "    f'''\n",
    "    SELECT AVG(Score)\n",
    "    FROM ScoreRecord\n",
    "    WHERE ScoreRecord.PostID == {str(post_id)} and ScoreRecord.TargetID == {str(target_id)}\n",
    "    '''\n",
    "    )\n",
    "    result = cursor.fetchone()\n",
    "    conn.commit()\n",
    "    cursor.close()\n",
    "    return {\n",
    "        \"score\": result[0]\n",
    "    }"
   ]
  },
  {
   "cell_type": "code",
   "execution_count": 255,
   "id": "1b54d1f6",
   "metadata": {},
   "outputs": [
    {
     "name": "stdout",
     "output_type": "stream",
     "text": [
      "詹姆斯平均分: 9.15\n"
     ]
    }
   ],
   "source": [
    "# 8. 查询詹姆斯平均分（帖子1）\n",
    "request8 = {\"post_id\": 1, \"target_id\": 1}\n",
    "response8 = handle_req_target_avgscore(request8, getDB())\n",
    "print(\"詹姆斯平均分:\", response8[\"score\"])  # (9.5+8.8)/2=9.15"
   ]
  },
  {
   "cell_type": "code",
   "execution_count": 256,
   "id": "1fba2dbb",
   "metadata": {},
   "outputs": [],
   "source": [
    "def handle_req_target_comments(request, conn):\n",
    "    post_id = check_type(request[\"post_id\"], [\"str\", \"int\"])\n",
    "    target_id =check_type(request[\"target_id\"], [\"str\", \"int\"])\n",
    "    cursor = conn.cursor()\n",
    "    cursor.execute(\n",
    "    f'''\n",
    "    SELECT c.CommentID, c.UserID, c.Content, c.ParentID, c.CommentTime\n",
    "    FROM Comment AS c\n",
    "    WHERE c.PostID = {str(post_id)} and c.TargetID = {str(target_id)}\n",
    "    '''\n",
    "    )\n",
    "    val = cursor.fetchall()\n",
    "    conn.commit()\n",
    "    cursor.close()\n",
    "    return [\n",
    "        {\n",
    "            \"comment_id\": a,\n",
    "            \"user_id\": b,\n",
    "            \"content\": c,\n",
    "            \"parent_id\": d,\n",
    "            \"comment_time\": e\n",
    "        }\n",
    "        for a,b,c,d,e in val\n",
    "    ]"
   ]
  },
  {
   "cell_type": "code",
   "execution_count": 257,
   "id": "6e853406",
   "metadata": {},
   "outputs": [
    {
     "name": "stdout",
     "output_type": "stream",
     "text": [
      "iPhone15评论数: 0\n"
     ]
    }
   ],
   "source": [
    "# 9. 获取iPhone15的评论（帖子3）\n",
    "request9 = {\"post_id\": 3, \"target_id\": 3}\n",
    "response9 = handle_req_target_comments(request9, getDB())\n",
    "print(\"iPhone15评论数:\", len(response9))  # 初始有1条"
   ]
  },
  {
   "cell_type": "code",
   "execution_count": 258,
   "id": "829d6a80",
   "metadata": {},
   "outputs": [],
   "source": [
    "def handle_req_user_actions(request, conn):\n",
    "    user_id = check_type(request[\"user_id\"], [\"str\", \"int\"])\n",
    "    cursor = conn.cursor()\n",
    "    cursor.execute(\n",
    "    f''' \n",
    "    SELECT u.ActionType, u.LogID, u.ActionTime\n",
    "    FROM UserActionLog AS u\n",
    "    WHERE u.UserID = {str(user_id)}\n",
    "    '''\n",
    "    )\n",
    "    val = cursor.fetchall()\n",
    "    conn.commit()\n",
    "    cursor.close()\n",
    "    return [\n",
    "        {\n",
    "            \"action_type\": a,\n",
    "            \"action_id\": b,\n",
    "            \"action_time\": c,\n",
    "        }\n",
    "        for a,b,c in val\n",
    "    ]"
   ]
  },
  {
   "cell_type": "code",
   "execution_count": 259,
   "id": "53d84325",
   "metadata": {},
   "outputs": [
    {
     "name": "stdout",
     "output_type": "stream",
     "text": [
      "用户1最近行为: ['CREATE_POST', 'CREATE_POST']\n"
     ]
    }
   ],
   "source": [
    "# 10. 查询用户1的行为记录\n",
    "request10 = {\"user_id\": 1}\n",
    "response10 = handle_req_user_actions(request10, getDB())\n",
    "print(\"用户1最近行为:\", [a[\"action_type\"] for a in response10])  # 包含CREATE_POST/SCORE等"
   ]
  },
  {
   "cell_type": "code",
   "execution_count": 260,
   "id": "959f8079-e77d-4403-a85c-b7ee6e323367",
   "metadata": {},
   "outputs": [],
   "source": [
    "# 11. 修改评分（无需记录日志）\n",
    "def handle_update_score(request, conn):\n",
    "    record_id = check_type(request[\"record_id\"], [\"str\", \"int\"])\n",
    "    user_id = check_type(request[\"user_id\"], [\"str\", \"int\"])\n",
    "    new_score = check_type(request[\"new_score\"], [\"int\", \"float\"])\n",
    "    \n",
    "    cursor = conn.cursor()\n",
    "    # 直接更新评分记录\n",
    "    cursor.execute('''\n",
    "    UPDATE ScoreRecord \n",
    "    SET Score = ?\n",
    "    WHERE RecordID = ? \n",
    "      AND UserID = ?\n",
    "    RETURNING TargetID, PostID\n",
    "    ''', (float(new_score), int(record_id), int(user_id)))\n",
    "    \n",
    "    updated = cursor.fetchone()\n",
    "    if not updated:\n",
    "        raise ValueError(\"评分记录不存在或无权修改\")\n",
    "    \n",
    "    conn.commit()  # 移除了日志记录\n",
    "    return {\"target_id\": updated[0], \"post_id\": updated[1]}"
   ]
  },
  {
   "cell_type": "code",
   "execution_count": 261,
   "id": "e00dc5f8",
   "metadata": {},
   "outputs": [
    {
     "name": "stdout",
     "output_type": "stream",
     "text": [
      "修改结果: {'target_id': 3, 'post_id': 3}\n"
     ]
    }
   ],
   "source": [
    "# 11. 修改评分（用户2修改对东契奇的评分）\n",
    "request_update = {\n",
    "    \"record_id\": 5,  # 假设存在的评分记录ID\n",
    "    \"user_id\": 2,\n",
    "    \"new_score\": 9.0\n",
    "}\n",
    "resp_update = handle_update_score(request_update, getDB())\n",
    "print(\"修改结果:\", resp_update)  # 应返回目标ID和帖子ID"
   ]
  },
  {
   "cell_type": "code",
   "execution_count": 262,
   "id": "07301697",
   "metadata": {},
   "outputs": [],
   "source": [
    "# 12. 删除评论（级联删除子评论）\n",
    "def handle_delete_comment(request, conn):\n",
    "    comment_id = check_type(request[\"comment_id\"], [\"str\", \"int\"])\n",
    "    user_id = check_type(request[\"user_id\"], [\"str\", \"int\"])\n",
    "    \n",
    "    cursor = conn.cursor()\n",
    "    # 直接删除评论（通过外键级联）\n",
    "    cursor.execute('''\n",
    "    DELETE FROM Comment \n",
    "    WHERE CommentID = ?\n",
    "      AND UserID = ?\n",
    "    RETURNING PostID, TargetID\n",
    "    ''', (int(comment_id), int(user_id)))\n",
    "    \n",
    "    deleted = cursor.fetchone()\n",
    "    if not deleted:\n",
    "        raise ValueError(\"评论不存在或无权删除\")\n",
    "    \n",
    "    conn.commit()  # 移除了日志记录\n",
    "    return {\"post_id\": deleted[0], \"target_id\": deleted[1]}\n",
    "\n"
   ]
  },
  {
   "cell_type": "code",
   "execution_count": 263,
   "id": "c3772bdc",
   "metadata": {},
   "outputs": [
    {
     "name": "stdout",
     "output_type": "stream",
     "text": [
      "删除结果: {'post_id': 3, 'target_id': 1}\n"
     ]
    }
   ],
   "source": [
    "# 12. 删除评论（用户3删除自己的回复）\n",
    "# 测试删除评论\n",
    "request_delete = {\n",
    "    \"comment_id\": 3,  # 假设存在的评论ID\n",
    "    \"user_id\": 1\n",
    "}\n",
    "resp_delete = handle_delete_comment(request_delete, getDB())\n",
    "print(\"删除结果:\", resp_delete)  # 应返回关联的帖子ID和目标ID"
   ]
  },
  {
   "cell_type": "code",
   "execution_count": 264,
   "id": "59235e79",
   "metadata": {},
   "outputs": [],
   "source": [
    "# 13. 查询帖子中评论最多的评分对象\n",
    "def handle_req_hot_target(request, conn):\n",
    "    post_id = check_type(request[\"post_id\"], [\"str\", \"int\"])\n",
    "    \n",
    "    cursor = conn.cursor()\n",
    "    cursor.execute('''\n",
    "    SELECT \n",
    "        st.TargetID,\n",
    "        st.TargetName,\n",
    "        COUNT(c.CommentID) AS comment_count\n",
    "    FROM Comment c\n",
    "    JOIN ScoreTarget st ON c.TargetID = st.TargetID\n",
    "    WHERE c.PostID = ?\n",
    "      AND c.TargetID IS NOT NULL\n",
    "    GROUP BY st.TargetID\n",
    "    ORDER BY comment_count DESC\n",
    "    LIMIT 1\n",
    "    ''', (int(post_id),))\n",
    "    \n",
    "    result = cursor.fetchone()\n",
    "    return {\n",
    "        \"target_id\": result[0],\n",
    "        \"target_name\": result[1],\n",
    "        \"comment_count\": result[2]\n",
    "    } if result else {}"
   ]
  },
  {
   "cell_type": "code",
   "execution_count": 265,
   "id": "81c82850",
   "metadata": {},
   "outputs": [
    {
     "name": "stdout",
     "output_type": "stream",
     "text": [
      "帖子1最热对象: {'target_id': 1, 'target_name': '勒布朗·詹姆斯', 'comment_count': 1}\n"
     ]
    }
   ],
   "source": [
    "# 13. 查询帖子1的热门对象\n",
    "request13 = {\"post_id\": 1}\n",
    "response13 = handle_req_hot_target(request13, getDB())\n",
    "print(\"帖子1最热对象:\", response13)  # 应返回詹姆斯（2条评论）"
   ]
  }
 ],
 "metadata": {
  "kernelspec": {
   "display_name": "base",
   "language": "python",
   "name": "python3"
  },
  "language_info": {
   "codemirror_mode": {
    "name": "ipython",
    "version": 3
   },
   "file_extension": ".py",
   "mimetype": "text/x-python",
   "name": "python",
   "nbconvert_exporter": "python",
   "pygments_lexer": "ipython3",
   "version": "3.9.13"
  }
 },
 "nbformat": 4,
 "nbformat_minor": 5
}
